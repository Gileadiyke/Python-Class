{
 "cells": [
  {
   "cell_type": "code",
   "execution_count": 1,
   "id": "a5624736",
   "metadata": {},
   "outputs": [
    {
     "name": "stdout",
     "output_type": "stream",
     "text": [
      "['__doc__', '__loader__', '__name__', '__package__', '__spec__', 'acos', 'acosh', 'asin', 'asinh', 'atan', 'atan2', 'atanh', 'ceil', 'comb', 'copysign', 'cos', 'cosh', 'degrees', 'dist', 'e', 'erf', 'erfc', 'exp', 'expm1', 'fabs', 'factorial', 'floor', 'fmod', 'frexp', 'fsum', 'gamma', 'gcd', 'hypot', 'inf', 'isclose', 'isfinite', 'isinf', 'isnan', 'isqrt', 'lcm', 'ldexp', 'lgamma', 'log', 'log10', 'log1p', 'log2', 'modf', 'nan', 'nextafter', 'perm', 'pi', 'pow', 'prod', 'radians', 'remainder', 'sin', 'sinh', 'sqrt', 'tan', 'tanh', 'tau', 'trunc', 'ulp']\n"
     ]
    }
   ],
   "source": [
    "import math\n",
    "print(dir(math))"
   ]
  },
  {
   "cell_type": "code",
   "execution_count": 2,
   "id": "942682df",
   "metadata": {},
   "outputs": [
    {
     "name": "stdout",
     "output_type": "stream",
     "text": [
      "16\n",
      "15\n",
      "3.9496835316262997\n"
     ]
    }
   ],
   "source": [
    "number = 15.6\n",
    "print(math.ceil(number))\n",
    "print(math.floor(number))\n",
    "print(math.sqrt(number))"
   ]
  },
  {
   "cell_type": "code",
   "execution_count": 3,
   "id": "edefcb96",
   "metadata": {},
   "outputs": [
    {
     "name": "stdout",
     "output_type": "stream",
     "text": [
      "['Counter', 'Decimal', 'Fraction', 'NormalDist', 'StatisticsError', '__all__', '__builtins__', '__cached__', '__doc__', '__file__', '__loader__', '__name__', '__package__', '__spec__', '_coerce', '_convert', '_exact_ratio', '_fail_neg', '_find_lteq', '_find_rteq', '_isfinite', '_normal_dist_inv_cdf', '_ss', '_sum', 'bisect_left', 'bisect_right', 'erf', 'exp', 'fabs', 'fmean', 'fsum', 'geometric_mean', 'groupby', 'harmonic_mean', 'hypot', 'itemgetter', 'log', 'math', 'mean', 'median', 'median_grouped', 'median_high', 'median_low', 'mode', 'multimode', 'numbers', 'pstdev', 'pvariance', 'quantiles', 'random', 'sqrt', 'stdev', 'tau', 'variance']\n"
     ]
    }
   ],
   "source": [
    "import statistics as stat\n",
    "print(dir(stat))"
   ]
  },
  {
   "cell_type": "code",
   "execution_count": 4,
   "id": "31373941",
   "metadata": {},
   "outputs": [
    {
     "name": "stdout",
     "output_type": "stream",
     "text": [
      "64.66666666666667\n",
      "65\n",
      "65.0\n",
      "[65]\n"
     ]
    }
   ],
   "source": [
    "numbers = [89,65,23,45,65,80,75,65,9-0,95,65,100]\n",
    "print(stat.mean(numbers))\n",
    "print(stat.mode(numbers))\n",
    "print(stat.median(numbers))\n",
    "print(stat.multimode(numbers))"
   ]
  },
  {
   "cell_type": "code",
   "execution_count": 5,
   "id": "84f036d9",
   "metadata": {},
   "outputs": [
    {
     "name": "stdout",
     "output_type": "stream",
     "text": [
      "['BPF', 'LOG4', 'NV_MAGICCONST', 'RECIP_BPF', 'Random', 'SG_MAGICCONST', 'SystemRandom', 'TWOPI', '_Sequence', '_Set', '__all__', '__builtins__', '__cached__', '__doc__', '__file__', '__loader__', '__name__', '__package__', '__spec__', '_accumulate', '_acos', '_bisect', '_ceil', '_cos', '_e', '_exp', '_floor', '_inst', '_log', '_os', '_pi', '_random', '_repeat', '_sha512', '_sin', '_sqrt', '_test', '_test_generator', '_urandom', '_warn', 'betavariate', 'choice', 'choices', 'expovariate', 'gammavariate', 'gauss', 'getrandbits', 'getstate', 'lognormvariate', 'normalvariate', 'paretovariate', 'randbytes', 'randint', 'random', 'randrange', 'sample', 'seed', 'setstate', 'shuffle', 'triangular', 'uniform', 'vonmisesvariate', 'weibullvariate']\n"
     ]
    }
   ],
   "source": [
    "import random as rn\n",
    "print(dir(rn))"
   ]
  },
  {
   "cell_type": "code",
   "execution_count": 8,
   "id": "0e6740df",
   "metadata": {},
   "outputs": [
    {
     "name": "stdout",
     "output_type": "stream",
     "text": [
      "62\n",
      "45\n"
     ]
    }
   ],
   "source": [
    "print(rn.randint(45,65))\n",
    "print(rn.choice(numbers))"
   ]
  },
  {
   "cell_type": "markdown",
   "id": "139437af",
   "metadata": {},
   "source": [
    "# CONDITIONAL STATEMENT"
   ]
  },
  {
   "cell_type": "code",
   "execution_count": 9,
   "id": "2c6950e0",
   "metadata": {},
   "outputs": [
    {
     "name": "stdout",
     "output_type": "stream",
     "text": [
      "Please enter a number-8\n"
     ]
    }
   ],
   "source": [
    "# WRITE A PYTHON PROGRAM TO CHECK IF A GIVEN NUMBER IS POSITIVE\n",
    "num = int(input('Please enter a number'))\n",
    "if num > 0:\n",
    "    print(f'{num} is a positive number')"
   ]
  },
  {
   "cell_type": "code",
   "execution_count": 23,
   "id": "09cea8e3",
   "metadata": {},
   "outputs": [
    {
     "name": "stdout",
     "output_type": "stream",
     "text": [
      "Please enter a number8\n",
      "8 is a positive number\n"
     ]
    }
   ],
   "source": [
    "num = int(input('Please enter a number'))\n",
    "if num > 0:\n",
    "     print(f'{num} is a positive number')\n",
    "else:\n",
    "    print(f'{num} is either a negative number or zero')"
   ]
  },
  {
   "cell_type": "markdown",
   "id": "74dd36d8",
   "metadata": {},
   "source": [
    "# As a developer at R and D company the monthly budget was released\n",
    "# you are asked to write a python program to see if the budget is \n",
    "# realistic or not based on the following factors\n",
    "# office equipment purchase 25%\n",
    "# gadget mentainance 30%\n",
    "# staff salary 65%\n",
    "# other 12%\n",
    "\n",
    "# after the outcome advice R and D on what step to take\n"
   ]
  },
  {
   "cell_type": "code",
   "execution_count": 16,
   "id": "5cab615d",
   "metadata": {},
   "outputs": [
    {
     "name": "stdout",
     "output_type": "stream",
     "text": [
      "please enter budget amount:55000000\n",
      "The total budget is 72600000.0 which is less or equal to the estimated budget,therefore the budget is not realistic\n"
     ]
    }
   ],
   "source": [
    "r_and_d_budget = float(input('please enter budget amount:'))\n",
    "oep = ((r_and_d_budget/100)*25)\n",
    "gm = ((r_and_d_budget/100)*30)\n",
    "ss = ((r_and_d_budget/100)*65)\n",
    "others = ((r_and_d_budget/100)*12)\n",
    "total = oep + gm + ss + others\n",
    "if total <= r_and_d_budget:\n",
    "    print(f'The total budget is {total} which is less or equal to the estimated budget,\\\n",
    "therefore the budget is realistic')\n",
    "else:\n",
    "          print(f'The total budget is {total} which is less or equal to the estimated budget,\\\n",
    "therefore the budget is not realistic')"
   ]
  },
  {
   "cell_type": "code",
   "execution_count": 22,
   "id": "2c7929c4",
   "metadata": {},
   "outputs": [
    {
     "name": "stdout",
     "output_type": "stream",
     "text": [
      "WELCOME TO R AND D PLAZA\n",
      "Press the desired floor botton:2\n",
      "Enter shop desired option:1\n",
      "Welcome to greenway Unisex Wears\n"
     ]
    }
   ],
   "source": [
    "print('WELCOME TO R AND D PLAZA')\n",
    "floor = int(input('Press the desired floor botton:')) \n",
    "if floor == 1:\n",
    "    shop = int(input('Enter shop desired option:'))\n",
    "    if shop == 1:\n",
    "        print('Welcome to Ojo\\'s and son LTD')\n",
    "    else:\n",
    "        print('Welcome to Godspower Saloon')\n",
    "elif floor ==2:   \n",
    "    shop = int(input('Enter shop desired option:'))\n",
    "    if shop == 1:\n",
    "        print('Welcome to greenway Unisex Wears')  \n",
    "    else:    \n",
    "        print('Welcome to Broadway computer training institute') \n",
    "elif floor ==3: \n",
    "    shop = int(input('Enter shop desired option:'))\n",
    "    if shop == 1:\n",
    "        print('Abijo Real Estate') \n",
    "    else:  \n",
    "        print('Welcome to Soul Lounge')\n",
    "else:\n",
    "    print('Ground floor')\n",
    "              "
   ]
  },
  {
   "cell_type": "code",
   "execution_count": null,
   "id": "bbcd62b4",
   "metadata": {},
   "outputs": [],
   "source": []
  }
 ],
 "metadata": {
  "kernelspec": {
   "display_name": "Python 3 (ipykernel)",
   "language": "python",
   "name": "python3"
  },
  "language_info": {
   "codemirror_mode": {
    "name": "ipython",
    "version": 3
   },
   "file_extension": ".py",
   "mimetype": "text/x-python",
   "name": "python",
   "nbconvert_exporter": "python",
   "pygments_lexer": "ipython3",
   "version": "3.9.12"
  }
 },
 "nbformat": 4,
 "nbformat_minor": 5
}
