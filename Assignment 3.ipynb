{
 "cells": [
  {
   "cell_type": "code",
   "execution_count": 3,
   "id": "8cac9049",
   "metadata": {},
   "outputs": [
    {
     "name": "stdout",
     "output_type": "stream",
     "text": [
      "Please enter the salary amount:900000\n",
      "Please enter years of service:6\n",
      "The Net Bonus is 45000.0\n",
      "The Net Salary is 945000.0\n"
     ]
    }
   ],
   "source": [
    "salary = float(input('Please enter the salary amount:'))\n",
    "yos = int(input('Please enter years of service:'))\n",
    "bonus = ((salary*5)/100)\n",
    "if yos > 5:\n",
    "    print(f'The Net Bonus is {bonus}')\n",
    "    print(f'The Net Salary is {salary + bonus}')   "
   ]
  },
  {
   "cell_type": "markdown",
   "id": "5661a32a",
   "metadata": {},
   "source": [
    "# Take Two Interger values and print greatest among them"
   ]
  },
  {
   "cell_type": "code",
   "execution_count": 6,
   "id": "c072d17c",
   "metadata": {},
   "outputs": [
    {
     "name": "stdout",
     "output_type": "stream",
     "text": [
      "enter the value of the first integer:7\n",
      "enter the value of the secpond integer:8\n",
      "second integer is greater than first integer\n"
     ]
    }
   ],
   "source": [
    "int1 = int(input('enter the value of the first integer:'))\n",
    "int2 = int(input('enter the value of the secpond integer:'))\n",
    "if int1 > int2:\n",
    "    print('first integer is greater than second integer')\n",
    "else:\n",
    "    print('second integer is greater than first integer')"
   ]
  },
  {
   "cell_type": "code",
   "execution_count": null,
   "id": "e3030fb9",
   "metadata": {},
   "outputs": [],
   "source": [
    "# Take the input of age of 3 people by user and determine the oldest AND youngest among them"
   ]
  },
  {
   "cell_type": "code",
   "execution_count": 3,
   "id": "25a5daf8",
   "metadata": {},
   "outputs": [
    {
     "name": "stdout",
     "output_type": "stream",
     "text": [
      "please enter the first person age :78\n",
      "please enter the second person age :70\n",
      "please enter the third person age :100\n",
      "third person is oldest and second person is youngest\n"
     ]
    }
   ],
   "source": [
    "age1 = int(input('please enter the first person age:'))\n",
    "age2 = int(input('please enter the second person age:'))\n",
    "age3 = int(input('please enter the third person age:'))\n",
    "if ((age1 > age2 and age1 > age3) and (age2 > age3)):\n",
    "    print('first person is oldest and third person is youngest')\n",
    "elif ((age1>age2 and age1>age3)) and (age3>age2):\n",
    "    print('first person is oldest and second person is youngest')\n",
    "elif ((age2>age1 and age2>age3)) and (age3>age1):\n",
    "    print('second person is oldest and first person is youngest')\n",
    "elif ((age2>age1 and age2>age3)) and (age3<age1):\n",
    "    print('second person is oldest and third person is youngest')\n",
    "elif ((age3>age1 and age3>age2)) and (age2>age1):\n",
    "    print('third person is oldest and first person is youngest')\n",
    "else:\n",
    "    print('third person is oldest and second person is youngest')\n"
   ]
  },
  {
   "cell_type": "code",
   "execution_count": 4,
   "id": "21bc7c03",
   "metadata": {},
   "outputs": [
    {
     "name": "stdout",
     "output_type": "stream",
     "text": [
      "please enter the first person age:78\n",
      "please enter the second person age:100\n",
      "please enter the third person age:123\n",
      "third person is oldest\n"
     ]
    }
   ],
   "source": [
    "age1 = int(input('please enter the first person age:'))\n",
    "age2 = int(input('please enter the second person age:'))\n",
    "age3 = int(input('please enter the third person age:'))\n",
    "if (age1 > age2 and age1 > age3):\n",
    "    print('first person is oldest')\n",
    "elif (age2>age1 and age2>age3):\n",
    "    print('second person is oldest')\n",
    "else:\n",
    "    print('third person is oldest')"
   ]
  },
  {
   "cell_type": "code",
   "execution_count": 5,
   "id": "716fcb69",
   "metadata": {},
   "outputs": [],
   "source": [
    "# A student will not be allpowed to sit in exam if his or her attendance is less than 75%\n",
    "# Take the following input from user\n",
    "# 1. Number of classes held\n",
    "# 2. Number of classes attended\n",
    "# And print\n",
    "# a. Percentage of classes attended\n",
    "# b. Is student allowed to sit ion exam?"
   ]
  },
  {
   "cell_type": "code",
   "execution_count": 8,
   "id": "4c1f87ff",
   "metadata": {},
   "outputs": [
    {
     "name": "stdout",
     "output_type": "stream",
     "text": [
      "please enter number of clases held:85\n",
      "please enter number of clases attended:40\n",
      "47.05882352941176\n",
      "student is not allowed to sit in exam\n"
     ]
    }
   ],
   "source": [
    "nch = int(input('please enter number of clases held:'))\n",
    "nca = int(input('please enter number of clases attended:'))\n",
    "pgcsa = (nca/nch) * 100\n",
    "print(pgcsa) \n",
    "if pgcsa > 75:\n",
    "    print('studen is allowed to sit in exam')\n",
    "else: \n",
    "    print('student is not allowed to sit in exam')"
   ]
  },
  {
   "cell_type": "code",
   "execution_count": 9,
   "id": "4bbe9f89",
   "metadata": {},
   "outputs": [],
   "source": [
    "# Ask user to enter age, sex (Male or Female), marital status (Yes or No)\n",
    "# Using the following rules,\n",
    "# Priont their place of service\n",
    "# a. If employee is female, then she will work only in urban area\n",
    "# If emp[loyee is malwe and age is betwee 20 to 40] then he may work anywhere\n",
    "# If employee is male and age is between 40 to 60, then he will work in urban areaS ONLY\n",
    "# And any other input of age should print 'ERROR'"
   ]
  },
  {
   "cell_type": "code",
   "execution_count": 32,
   "id": "861611a0",
   "metadata": {},
   "outputs": [
    {
     "name": "stdout",
     "output_type": "stream",
     "text": [
      "please enter your age:67\n",
      "please enter your sex:F\n",
      "please enter your marital status:1\n",
      "Employee will work only in urban areas\n"
     ]
    }
   ],
   "source": [
    "age = int(input('please enter your age:'))\n",
    "sex = input('please enter your sex:')\n",
    "ms = input('please enter your marital status:')\n",
    "if sex == 'F':\n",
    "    print('Employee will work only in urban areas')\n",
    "elif (sex == 'M' and age >= 20 and age < 40):\n",
    "    print('Employee can work anywhere')\n",
    "elif (sex == 'M' and age >= 40 and age < 60): \n",
    "    print('Employee can work only in urban areas')\n",
    "else:\n",
    "    print('Error')"
   ]
  },
  {
   "cell_type": "code",
   "execution_count": null,
   "id": "bd471bda",
   "metadata": {},
   "outputs": [],
   "source": []
  }
 ],
 "metadata": {
  "kernelspec": {
   "display_name": "Python 3 (ipykernel)",
   "language": "python",
   "name": "python3"
  },
  "language_info": {
   "codemirror_mode": {
    "name": "ipython",
    "version": 3
   },
   "file_extension": ".py",
   "mimetype": "text/x-python",
   "name": "python",
   "nbconvert_exporter": "python",
   "pygments_lexer": "ipython3",
   "version": "3.9.12"
  }
 },
 "nbformat": 4,
 "nbformat_minor": 5
}
