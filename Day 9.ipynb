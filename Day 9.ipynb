{
 "cells": [
  {
   "cell_type": "markdown",
   "id": "eeedbfa6",
   "metadata": {},
   "source": [
    "\n",
    "You have just been employed by Jtec Ltd, you are asked to create a simple posting program for staff to any of our branch location [Abia, Kaduna, Kano, Delta, Gombe, Akwa ibom, Oyo, Osun, Kwara] Creat a dictionary as the database with staff ID as the key with following va;lues: Staff name, DOB, Address, phonenumber and Email.."
   ]
  },
  {
   "cell_type": "code",
   "execution_count": 21,
   "id": "807a8355",
   "metadata": {},
   "outputs": [
    {
     "ename": "SyntaxError",
     "evalue": "EOL while scanning string literal (911312349.py, line 22)",
     "output_type": "error",
     "traceback": [
      "\u001b[1;36m  Input \u001b[1;32mIn [21]\u001b[1;36m\u001b[0m\n\u001b[1;33m    print(f'Congratulations you have been posted to {random.choice(branch_location)})\u001b[0m\n\u001b[1;37m                                                                                     ^\u001b[0m\n\u001b[1;31mSyntaxError\u001b[0m\u001b[1;31m:\u001b[0m EOL while scanning string literal\n"
     ]
    }
   ],
   "source": [
    "def staffposting():\n",
    "    import random\n",
    "    staffrecors = {\n",
    "        'JT01001': ['SAMUEL JOB','05/06/1990','IKEJA STREET','08037626543','SNG@YAHOO.COM'],\n",
    "        'JT01002': ['HOPE AKPAN','25/09/1987','NO 23 ABUJA ROAD','0907654383','HAJAY@GMAIL.COM'],\n",
    "        'JT01003': ['IDRIS ABUBAKAR','09/05/1950','NO 10 MAINLAND ROAD','0703867298176','IDAY@YAHOO.COM'],\n",
    "        'JT01004': ['Ekong Peace', '16/07/1999','No 27 King Road Abuja','090476356387','ekod@yyy.com'],\n",
    "        'JT01005': ['Seyi Aina','09/07/1987','No 4 Yeye Road','09807653933','sige@yshgf.com'],\n",
    "        'JT01006': ['John Paul','10/20/1987','No 4 Habu Road','09807653933','sige@yshgf.com'],\n",
    "    }   \n",
    "    branch_location =['ABIA','KADUNA','KANO','DELTA','GOMBE','AKWA IBOM','OYO','OSUN','KWARA']\n",
    "    staffid = input('PROVIDE YOUR STAFF ID TO GET YOUR POSTING')\n",
    "    for key in staffrecords:\n",
    "        if staffid == key:\n",
    "            print(f'''_______________STAFGF DETAILS__________________)\n",
    "    NAME: {staffrecords[key][0]}  \n",
    "    DATE OF BIRTH: {staffrecords[key][1]} \n",
    "    ADDRESS: {staffrecords[key][2]} \n",
    "    PHONE NUMBER : {staffrecords[key][3]} \n",
    "    EMAIL : {staffrecords[key][4]}\n",
    "    ''')\n",
    "            print(f'Congratulations you have been posted to {random.choice(branch_location)})\n",
    "            break\n",
    "    else:\n",
    "            print('Record not found')   \n",
    "staffposting()                  "
   ]
  },
  {
   "cell_type": "markdown",
   "id": "30f92bf1",
   "metadata": {},
   "source": [
    "# FILE INPUT AND OUTPUT"
   ]
  },
  {
   "cell_type": "code",
   "execution_count": 3,
   "id": "d0eddc7a",
   "metadata": {},
   "outputs": [],
   "source": [
    "# w,r,o,r+"
   ]
  },
  {
   "cell_type": "code",
   "execution_count": 4,
   "id": "9e3f416e",
   "metadata": {},
   "outputs": [],
   "source": [
    "file = open('demo.docx','w')\n",
    "file.write(''' YOU HAVE JUST BEEN EMPLOYED BY JTECH LTD, YOU ARE ASKED TO CREATE A \n",
    "SIMPLE POSTING PROGRAM FOR STAFF TO ANY OF OUR\n",
    "''')\n",
    "file.close()"
   ]
  },
  {
   "cell_type": "code",
   "execution_count": 12,
   "id": "d968327e",
   "metadata": {},
   "outputs": [
    {
     "name": "stdout",
     "output_type": "stream",
     "text": [
      " YOU HAVE JUST BEEN EMPLOYED BY JTECH LTD, YOU ARE ASKED TO CREATE A \n",
      "SIMPLE POSTING PROGRAM FOR STAFF TO ANY OF OUR\n",
      "BRANCH LOCATION [ABIA, KADUNA, KANO, DELTA, GOMBE, AKWA IBOM, OYO, OSUN, KWARA]\n"
     ]
    }
   ],
   "source": [
    "file = open('demo.docx','r')\n",
    "print(file.read())\n",
    "file.close()"
   ]
  },
  {
   "cell_type": "code",
   "execution_count": 8,
   "id": "8767746f",
   "metadata": {},
   "outputs": [],
   "source": [
    "file = open('demo.docx','a')\n",
    "file.write('BRANCH LOCATION [ABIA, KADUNA, KANO, DELTA, GOMBE, AKWA IBOM, OYO, OSUN, KWARA]')\n",
    "file.close()"
   ]
  },
  {
   "cell_type": "code",
   "execution_count": 16,
   "id": "9e63d6b4",
   "metadata": {},
   "outputs": [
    {
     "name": "stdout",
     "output_type": "stream",
     "text": [
      " YOU HAVE JUST BEEN EMPLOYED BY JTECH LTD, YOU ARE ASKED TO CREATE A \n",
      "SIMPLE POSTING PROGRAM FOR STAFF TO ANY OF OUR\n",
      "BRANCH LOCATION [ABIA, KADUNA, KANO, DELTA, GOMBE, AKWA IBOM, OYO, OSUN, KWARA]\n"
     ]
    }
   ],
   "source": [
    "file = open('demo.docx','r+')\n",
    "print(file.read())\n",
    "file.write('CREATE A DICTIONARY AS THE DATABASE WITH STAFF ID AS \\\n",
    "THE KEY WITH THE FOLLOWING VALUESSTAFF NAME, DOB, ADDRESS, PHONENUMBER AND EMAIL')\n",
    "file.close()           "
   ]
  },
  {
   "cell_type": "code",
   "execution_count": 17,
   "id": "db24f621",
   "metadata": {},
   "outputs": [
    {
     "name": "stdout",
     "output_type": "stream",
     "text": [
      " YOU HAVE JUST BEEN EMPLOYED BY JTECH LTD, YOU ARE ASKED TO CREATE A \n",
      "SIMPLE POSTING PROGRAM FOR STAFF TO ANY OF OUR\n",
      "BRANCH LOCATION [ABIA, KADUNA, KANO, DELTA, GOMBE, AKWA IBOM, OYO, OSUN, KWARA]CREATE A DICTIONARY AS THE DATABASE WITH STAFF ID AS THE KEY WITH THE FOLLOWING VALUESSTAFF NAME, DOB, ADDRESS, PHONENUMBER AND EMAIL\n"
     ]
    }
   ],
   "source": [
    "file = open('demo.docx','r')\n",
    "print(file.read())\n",
    "file.close()"
   ]
  },
  {
   "cell_type": "code",
   "execution_count": null,
   "id": "473b7285",
   "metadata": {},
   "outputs": [],
   "source": []
  }
 ],
 "metadata": {
  "kernelspec": {
   "display_name": "Python 3 (ipykernel)",
   "language": "python",
   "name": "python3"
  },
  "language_info": {
   "codemirror_mode": {
    "name": "ipython",
    "version": 3
   },
   "file_extension": ".py",
   "mimetype": "text/x-python",
   "name": "python",
   "nbconvert_exporter": "python",
   "pygments_lexer": "ipython3",
   "version": "3.9.12"
  }
 },
 "nbformat": 4,
 "nbformat_minor": 5
}
