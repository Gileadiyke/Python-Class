{
 "cells": [
  {
   "cell_type": "markdown",
   "id": "7d666554",
   "metadata": {},
   "source": [
    "# DATA TYPE CONVERSION"
   ]
  },
  {
   "cell_type": "code",
   "execution_count": 1,
   "id": "6bb17cf7",
   "metadata": {},
   "outputs": [
    {
     "name": "stdout",
     "output_type": "stream",
     "text": [
      "12\n"
     ]
    }
   ],
   "source": [
    "num1 = int(12.6)\n",
    "print(num1)"
   ]
  },
  {
   "cell_type": "code",
   "execution_count": 2,
   "id": "836497db",
   "metadata": {},
   "outputs": [
    {
     "name": "stdout",
     "output_type": "stream",
     "text": [
      "15.0\n"
     ]
    }
   ],
   "source": [
    "num2 = 15\n",
    "print(float(num2))"
   ]
  },
  {
   "cell_type": "code",
   "execution_count": 3,
   "id": "395ba268",
   "metadata": {},
   "outputs": [
    {
     "data": {
      "text/plain": [
       "'15'"
      ]
     },
     "execution_count": 3,
     "metadata": {},
     "output_type": "execute_result"
    }
   ],
   "source": [
    "str(num2)"
   ]
  },
  {
   "cell_type": "code",
   "execution_count": 4,
   "id": "5894c1dc",
   "metadata": {},
   "outputs": [
    {
     "data": {
      "text/plain": [
       "'15.32'"
      ]
     },
     "execution_count": 4,
     "metadata": {},
     "output_type": "execute_result"
    }
   ],
   "source": [
    "num3 = 15.32\n",
    "str(num3)"
   ]
  },
  {
   "cell_type": "code",
   "execution_count": 6,
   "id": "5029d326",
   "metadata": {},
   "outputs": [
    {
     "name": "stdout",
     "output_type": "stream",
     "text": [
      "58.0\n"
     ]
    }
   ],
   "source": [
    "word = '58'\n",
    "print(float(word))"
   ]
  },
  {
   "cell_type": "markdown",
   "id": "c2bb8cdf",
   "metadata": {},
   "source": [
    "# INPUT FUNCTION"
   ]
  },
  {
   "cell_type": "code",
   "execution_count": 7,
   "id": "9a654017",
   "metadata": {},
   "outputs": [
    {
     "name": "stdout",
     "output_type": "stream",
     "text": [
      "Please enter your name:Gilead\n"
     ]
    }
   ],
   "source": [
    "NAME = input('Please enter your name:')"
   ]
  },
  {
   "cell_type": "code",
   "execution_count": 11,
   "id": "dcebfdf7",
   "metadata": {},
   "outputs": [
    {
     "name": "stdout",
     "output_type": "stream",
     "text": [
      "Gilead\n"
     ]
    }
   ],
   "source": [
    "print(NAME)"
   ]
  },
  {
   "cell_type": "code",
   "execution_count": 13,
   "id": "1b7c067c",
   "metadata": {},
   "outputs": [
    {
     "name": "stdout",
     "output_type": "stream",
     "text": [
      "Please enter your age:45\n"
     ]
    }
   ],
   "source": [
    "Age = int(input('Please enter your age:'))"
   ]
  },
  {
   "cell_type": "markdown",
   "id": "e7967abc",
   "metadata": {},
   "source": [
    "# OPERATORS"
   ]
  },
  {
   "cell_type": "markdown",
   "id": "9ca7e9d6",
   "metadata": {},
   "source": [
    "## Arithimetic Operators"
   ]
  },
  {
   "cell_type": "code",
   "execution_count": 16,
   "id": "0e288fb9",
   "metadata": {},
   "outputs": [
    {
     "name": "stdout",
     "output_type": "stream",
     "text": [
      "please provide number one value:85\n",
      "Please provide number two value:45\n",
      "85 + 45 = 130\n",
      "85 - 45 = 40\n",
      "85 * 45 = 3825\n",
      "85 / 45 = 1.8888888888888888\n",
      "85 % 45 = 40\n",
      "85 // 45 = 1\n",
      "85 ** 45 = 666579045552219580249174894800496142142685846003260003755030993488617241382598876953125\n"
     ]
    }
   ],
   "source": [
    "Num1 = int(input('please provide number one value:'))\n",
    "Num2 = int(input('Please provide number two value:'))\n",
    "print(f'{Num1} + {Num2} = {Num1 + Num2}')\n",
    "print(f'{Num1} - {Num2} = {Num1 - Num2}')\n",
    "print(f'{Num1} * {Num2} = {Num1 * Num2}')\n",
    "print(f'{Num1} / {Num2} = {Num1 / Num2}')\n",
    "print(f'{Num1} % {Num2} = {Num1 % Num2}')\n",
    "print(f'{Num1} // {Num2} = {Num1 // Num2}')\n",
    "print(f'{Num1} ** {Num2} = {Num1 ** Num2}')"
   ]
  },
  {
   "cell_type": "markdown",
   "id": "8bce950c",
   "metadata": {},
   "source": [
    "## Comparism Operators"
   ]
  },
  {
   "cell_type": "code",
   "execution_count": 18,
   "id": "9922f16e",
   "metadata": {},
   "outputs": [
    {
     "name": "stdout",
     "output_type": "stream",
     "text": [
      "please provide number one value:12\n",
      "Please provide number two value:8\n",
      "12 > 8 = True\n",
      "12 < 8 = False\n",
      "12 >= 8 = True\n",
      "12 <= 8 = False\n",
      "12 == 8 = False\n",
      "12 != 8 = True\n"
     ]
    }
   ],
   "source": [
    "Num1 = int(input('please provide number one value:'))\n",
    "Num2 = int(input('Please provide number two value:'))\n",
    "print(f'{Num1} > {Num2} = {Num1 > Num2}')\n",
    "print(f'{Num1} < {Num2} = {Num1 < Num2}')\n",
    "print(f'{Num1} >= {Num2} = {Num1 >= Num2}')\n",
    "print(f'{Num1} <= {Num2} = {Num1 <= Num2}')\n",
    "print(f'{Num1} == {Num2} = {Num1 == Num2}')\n",
    "print(f'{Num1} != {Num2} = {Num1 != Num2}')"
   ]
  },
  {
   "cell_type": "markdown",
   "id": "f15a5ffb",
   "metadata": {},
   "source": [
    "## Logical Operators"
   ]
  },
  {
   "cell_type": "code",
   "execution_count": 21,
   "id": "d58e855a",
   "metadata": {},
   "outputs": [
    {
     "name": "stdout",
     "output_type": "stream",
     "text": [
      "please provide number one value:65\n",
      "Please provide number two value:12\n",
      "False\n",
      "True\n",
      "False\n"
     ]
    }
   ],
   "source": [
    "Num1 = int(input('please provide number one value:'))\n",
    "Num2 = int(input('Please provide number two value:'))\n",
    "print(Num1 > Num2 and Num1 == Num2)\n",
    "print(Num1 > Num2 or Num1 == Num2)\n",
    "print(not Num1)"
   ]
  },
  {
   "cell_type": "markdown",
   "id": "4f356e6b",
   "metadata": {},
   "source": [
    "## Membership Operators"
   ]
  },
  {
   "cell_type": "code",
   "execution_count": 22,
   "id": "7fa82eb1",
   "metadata": {},
   "outputs": [
    {
     "name": "stdout",
     "output_type": "stream",
     "text": [
      "True\n",
      "True\n"
     ]
    }
   ],
   "source": [
    "word = 'school'\n",
    "print('ch' in word)\n",
    "print(Num1 is not Num2)"
   ]
  },
  {
   "cell_type": "markdown",
   "id": "9a67ed0c",
   "metadata": {},
   "source": [
    "## Identity Operators"
   ]
  },
  {
   "cell_type": "code",
   "execution_count": 24,
   "id": "1d302f8b",
   "metadata": {},
   "outputs": [
    {
     "name": "stdout",
     "output_type": "stream",
     "text": [
      "False\n",
      "True\n"
     ]
    }
   ],
   "source": [
    "print(Num1 is Num2)\n",
    "print(Num1 is not Num2)"
   ]
  },
  {
   "cell_type": "code",
   "execution_count": null,
   "id": "5f045e62",
   "metadata": {},
   "outputs": [],
   "source": []
  }
 ],
 "metadata": {
  "kernelspec": {
   "display_name": "Python 3 (ipykernel)",
   "language": "python",
   "name": "python3"
  },
  "language_info": {
   "codemirror_mode": {
    "name": "ipython",
    "version": 3
   },
   "file_extension": ".py",
   "mimetype": "text/x-python",
   "name": "python",
   "nbconvert_exporter": "python",
   "pygments_lexer": "ipython3",
   "version": "3.9.12"
  }
 },
 "nbformat": 4,
 "nbformat_minor": 5
}
