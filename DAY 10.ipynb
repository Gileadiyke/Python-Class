{
 "cells": [
  {
   "cell_type": "markdown",
   "id": "be9b7ee4",
   "metadata": {},
   "source": [
    "\n"
   ]
  },
  {
   "cell_type": "code",
   "execution_count": null,
   "id": "9e406f9a",
   "metadata": {},
   "outputs": [],
   "source": [
    "# EXERCISE\n",
    "# A SMART PHONE DEALER IN THE LOCALITY IS VERY WORRIED ABOUT HIS RECORDS AS\n",
    "# HIS ASSISTANT IS NOT SO SERIOUS ABOUT THE OVERALL TURNOVER. HE CAN'T CHANGE\n",
    "# HIS ASSISTANT BECAUSE HE IS ONE OF HIS FAMILY MEMBER AND THEREFORE TURNS OUT \n",
    "# TO BE ISSUE FOR THE DEALER. USING THE CLASS AND OBJECT, WRITE A PYTHON CODE\n",
    "# TO MANAGE THE DEALERS STORE HAVING THE FOLLOWING ATTRIBUTES [PHONE NAME, \n",
    "# MODEL, QUANTITY AND PRICE] AND THE FOLLOWING METHOD GET PRICE, GET MODEL\n",
    "# AND USE WHILE LOOP TO MAKE A RUNNING SYSTEM"
   ]
  },
  {
   "cell_type": "code",
   "execution_count": 17,
   "id": "64e2af32",
   "metadata": {},
   "outputs": [
    {
     "name": "stdout",
     "output_type": "stream",
     "text": [
      "Enter y as yes to perform operations and n as no to quity\n",
      "Enter phone name:tecno d4\n",
      "Enter phone model:tc676\n",
      "Enter phone quantity:67\n",
      "Enter phone price:90000\n",
      "Enter y as yes to perform operations and n as no to quit:n\n",
      "___THE LIST OF AVAILABLE PHONES___\n",
      "1 .  tecno d4::tc676::<function price at 0x00000062061A8280>::67\n"
     ]
    }
   ],
   "source": [
    "class phonestore:\n",
    "    def __init__(self,phonename,model,quantity,price):\n",
    "        self.phonename = phonename\n",
    "        self.model = model\n",
    "        self.quantity = quantity\n",
    "        self.price = price\n",
    "        \n",
    "    def getprice(self):\n",
    "        return self.price\n",
    "    def getmodel(self):\n",
    "        return self.model\n",
    "    def getquantity(self):\n",
    "        return self.quantity\n",
    "    def __str__(self):\n",
    "        return self.phonename + '::' + str(self.getmodel()) + '::' + str(self.getprice()) + '::' + str(self.getquantity())\n",
    "def price(rec,phonename,model,quantity,price):\n",
    "        rec.append(phonestore(phonename,model,quantity,price))\n",
    "        return rec\n",
    "records = []\n",
    "x = input('Enter y as yes to perform operations and n as no to quit')\n",
    "while x =='y':\n",
    "        phonename = input('Enter phone name:')\n",
    "        model = input('Enter phone model:')\n",
    "        quantity = input('Enter phone quantity:')\n",
    "        Prices = input('Enter phone price:')\n",
    "        records = price(records,phonename,model,quantity,price)\n",
    "        x = input('Enter y as yes to perform operations and n as no to quit:')\n",
    "counter = 1\n",
    "print('___THE LIST OF AVAILABLE PHONES___')\n",
    "for items in records:\n",
    "    print(counter,'. ', items)\n",
    "    counter = counter + 1\n",
    "        \n",
    "        \n",
    "        \n",
    "       \n",
    "        \n",
    "        "
   ]
  },
  {
   "cell_type": "code",
   "execution_count": null,
   "id": "93ddb33b",
   "metadata": {},
   "outputs": [],
   "source": [
    "y"
   ]
  },
  {
   "cell_type": "code",
   "execution_count": null,
   "id": "cb88144f",
   "metadata": {},
   "outputs": [],
   "source": []
  }
 ],
 "metadata": {
  "kernelspec": {
   "display_name": "Python 3 (ipykernel)",
   "language": "python",
   "name": "python3"
  },
  "language_info": {
   "codemirror_mode": {
    "name": "ipython",
    "version": 3
   },
   "file_extension": ".py",
   "mimetype": "text/x-python",
   "name": "python",
   "nbconvert_exporter": "python",
   "pygments_lexer": "ipython3",
   "version": "3.9.12"
  }
 },
 "nbformat": 4,
 "nbformat_minor": 5
}
