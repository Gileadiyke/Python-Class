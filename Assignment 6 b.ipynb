{
 "cells": [
  {
   "cell_type": "markdown",
   "id": "9f335eae",
   "metadata": {},
   "source": [
    "# Using class and object develops a simple transaction program with balance as the attribute and deposit, withdraw and transfer as the methods\n",
    "\n",
    "# Note: Use while loop to make it a running system"
   ]
  },
  {
   "cell_type": "code",
   "execution_count": 2,
   "id": "01bab23a",
   "metadata": {},
   "outputs": [
    {
     "name": "stdout",
     "output_type": "stream",
     "text": [
      "Enter y as yes to prtform any operation and n as no to quit:y\n",
      "Entetr operation option [deposit, withdraw, transfer and getbalance]:deposit\n",
      "Enter the amount to be deposited100000000\n",
      "Transaction sucessful\n",
      "Enter y as tes to perform any operation and n as no to quit:y\n",
      "Entetr operation option [deposit, withdraw, transfer and getbalance]:withdraw\n",
      "Enter the amount to be withdrew50000000\n",
      "Transaction sucessful\n",
      "Enter y as tes to perform any operation and n as no to quit:y\n",
      "Entetr operation option [deposit, withdraw, transfer and getbalance]:20000000\n",
      "Enter y as tes to perform any operation and n as no to quit:y\n",
      "Entetr operation option [deposit, withdraw, transfer and getbalance]:transfer\n",
      "Enter the amount to be transfered15000000\n",
      "Enter the destination account:6578534t5\n",
      "Transaction sucessful\n",
      "Enter y as tes to perform any operation and n as no to quit:y\n",
      "Entetr operation option [deposit, withdraw, transfer and getbalance]:getbalance\n",
      "Available Balance is 35000000.0\n",
      "Enter y as tes to perform any operation and n as no to quit:n\n"
     ]
    }
   ],
   "source": [
    "class transaction:\n",
    "    def __init__(self):\n",
    "        self.balance = 0\n",
    "        \n",
    "    def deposit(self):\n",
    "        amount = float(input('Enter the amount to be deposited'))\n",
    "        self.balance = self.balance + amount\n",
    "        print(f'Transaction sucessful')\n",
    "    def withdraw(self):   \n",
    "        amount = float(input('Enter the amount to be withdrew'))\n",
    "        self.balance = self.balance - amount\n",
    "        print(f'Transaction sucessful')\n",
    "    def transfer(self):   \n",
    "        amount = float(input('Enter the amount to be transfered'))\n",
    "        destination = input('Enter the destination account:')\n",
    "        self.balance = self.balance - amount\n",
    "        print(f'Transaction sucessful')  \n",
    "    def getbalance(self):\n",
    "        print(f'Available Balance is {self.balance}')\n",
    "customer = transaction()\n",
    "counter = 1\n",
    "operations = input('Enter y as yes to prtform any operation and n as no to quit:')\n",
    "while operations == 'y':\n",
    "    option = input('Entetr operation option [deposit, withdraw, transfer and getbalance]:')\n",
    "    if option == 'deposit':\n",
    "        customer.deposit()\n",
    "    elif option == 'withdraw':\n",
    "        customer.withdraw()\n",
    "    elif option == 'transfer':\n",
    "        customer.transfer() \n",
    "    elif option == 'getbalance':\n",
    "        customer.getbalance() \n",
    "    operations = input('Enter y as tes to perform any operation and n as no to quit:') \n",
    "    counter = counter + 1"
   ]
  },
  {
   "cell_type": "code",
   "execution_count": null,
   "id": "92314ca5",
   "metadata": {},
   "outputs": [],
   "source": []
  }
 ],
 "metadata": {
  "kernelspec": {
   "display_name": "Python 3 (ipykernel)",
   "language": "python",
   "name": "python3"
  },
  "language_info": {
   "codemirror_mode": {
    "name": "ipython",
    "version": 3
   },
   "file_extension": ".py",
   "mimetype": "text/x-python",
   "name": "python",
   "nbconvert_exporter": "python",
   "pygments_lexer": "ipython3",
   "version": "3.9.12"
  }
 },
 "nbformat": 4,
 "nbformat_minor": 5
}
