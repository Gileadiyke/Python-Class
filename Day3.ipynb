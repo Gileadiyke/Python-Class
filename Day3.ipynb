{
 "cells": [
  {
   "cell_type": "markdown",
   "id": "38c7a687",
   "metadata": {},
   "source": [
    "# ITERABLE OBJECT"
   ]
  },
  {
   "cell_type": "code",
   "execution_count": 1,
   "id": "884000a8",
   "metadata": {},
   "outputs": [],
   "source": [
    "# TUPLE\n",
    "# TUPLE IS UNCHANGEABLE\n",
    "# TUPLE IS DENOTED ()\n",
    "# T0 ACCESS ANY VALUE WE USE THE INDEX LOCATION"
   ]
  },
  {
   "cell_type": "code",
   "execution_count": 3,
   "id": "8b794e7b",
   "metadata": {},
   "outputs": [
    {
     "name": "stdout",
     "output_type": "stream",
     "text": [
      "11\n"
     ]
    }
   ],
   "source": [
    "numbers = (45,23,65,85,23,56,45,85,69,30,35)\n",
    "print(len(numbers))"
   ]
  },
  {
   "cell_type": "code",
   "execution_count": 4,
   "id": "b5763eab",
   "metadata": {},
   "outputs": [
    {
     "name": "stdout",
     "output_type": "stream",
     "text": [
      "<class 'tuple'>\n"
     ]
    }
   ],
   "source": [
    "print(type(numbers))"
   ]
  },
  {
   "cell_type": "code",
   "execution_count": 6,
   "id": "b58d2142",
   "metadata": {},
   "outputs": [
    {
     "name": "stdout",
     "output_type": "stream",
     "text": [
      "23\n"
     ]
    }
   ],
   "source": [
    "print(numbers[4])"
   ]
  },
  {
   "cell_type": "code",
   "execution_count": 8,
   "id": "d0516f91",
   "metadata": {},
   "outputs": [
    {
     "name": "stdout",
     "output_type": "stream",
     "text": [
      "23\n"
     ]
    }
   ],
   "source": [
    "print(numbers[-7])"
   ]
  },
  {
   "cell_type": "code",
   "execution_count": 10,
   "id": "c90af344",
   "metadata": {},
   "outputs": [
    {
     "name": "stdout",
     "output_type": "stream",
     "text": [
      "(85, 23, 56, 45)\n"
     ]
    }
   ],
   "source": [
    "print(numbers[3:7])"
   ]
  },
  {
   "cell_type": "code",
   "execution_count": 11,
   "id": "3c3a5d33",
   "metadata": {},
   "outputs": [
    {
     "name": "stdout",
     "output_type": "stream",
     "text": [
      "2\n"
     ]
    }
   ],
   "source": [
    "print(numbers.count(45))"
   ]
  },
  {
   "cell_type": "code",
   "execution_count": 12,
   "id": "7f1c7881",
   "metadata": {},
   "outputs": [
    {
     "name": "stdout",
     "output_type": "stream",
     "text": [
      "2\n"
     ]
    }
   ],
   "source": [
    "print(numbers.index(65))"
   ]
  },
  {
   "cell_type": "markdown",
   "id": "2feb3aa1",
   "metadata": {},
   "source": [
    "# LIST"
   ]
  },
  {
   "cell_type": "code",
   "execution_count": 17,
   "id": "c05fae91",
   "metadata": {},
   "outputs": [],
   "source": [
    "fruits = ['Apple','Cherry','Lemon','Grape']\n",
    "        \n",
    "    "
   ]
  },
  {
   "cell_type": "code",
   "execution_count": 18,
   "id": "f2812c77",
   "metadata": {},
   "outputs": [
    {
     "name": "stdout",
     "output_type": "stream",
     "text": [
      "['Apple', 'Cherry', 'Lemon', 'Grape', 'pear']\n"
     ]
    }
   ],
   "source": [
    "fruits.append('pear')\n",
    "print(fruits)"
   ]
  },
  {
   "cell_type": "code",
   "execution_count": 19,
   "id": "ffb560e9",
   "metadata": {},
   "outputs": [
    {
     "name": "stdout",
     "output_type": "stream",
     "text": [
      "['Apple', 'Cherry', 'Lemon', 'Grape', 'pear', 'Banana', 'Pawpaw', 'Orange', 'Apple']\n"
     ]
    }
   ],
   "source": [
    "newlist = ['Banana','Pawpaw','Orange','Apple']\n",
    "fruits.extend(newlist)\n",
    "print(fruits)"
   ]
  },
  {
   "cell_type": "code",
   "execution_count": 20,
   "id": "afc1841b",
   "metadata": {},
   "outputs": [
    {
     "name": "stdout",
     "output_type": "stream",
     "text": [
      "['Apple', 'Cherry', 'Lemon', 'Coconut', 'Grape', 'pear', 'Banana', 'Pawpaw', 'Orange', 'Apple']\n"
     ]
    }
   ],
   "source": [
    "fruits.insert(3,'Coconut')\n",
    "print(fruits)"
   ]
  },
  {
   "cell_type": "code",
   "execution_count": 23,
   "id": "daaaf465",
   "metadata": {},
   "outputs": [
    {
     "name": "stdout",
     "output_type": "stream",
     "text": [
      "['Apple', 'Apple', 'Banana', 'Cherry', 'Coconut', 'Grape', 'Lemon', 'Orange', 'Pawpaw', 'pear']\n"
     ]
    }
   ],
   "source": [
    "fruits.sort()\n",
    "print(fruits)"
   ]
  },
  {
   "cell_type": "code",
   "execution_count": 24,
   "id": "df9c3065",
   "metadata": {},
   "outputs": [
    {
     "name": "stdout",
     "output_type": "stream",
     "text": [
      "['pear', 'Pawpaw', 'Orange', 'Lemon', 'Grape', 'Coconut', 'Cherry', 'Banana', 'Apple', 'Apple']\n"
     ]
    }
   ],
   "source": [
    "fruits.reverse()\n",
    "print(fruits)"
   ]
  },
  {
   "cell_type": "code",
   "execution_count": 26,
   "id": "b0064622",
   "metadata": {},
   "outputs": [
    {
     "name": "stdout",
     "output_type": "stream",
     "text": [
      "['pear', 'Pawpaw', 'Orange', 'Lemon', 'Cherry', 'Banana', 'Apple', 'Apple']\n"
     ]
    }
   ],
   "source": [
    "fruits.pop(4)\n",
    "print(fruits)"
   ]
  },
  {
   "cell_type": "code",
   "execution_count": 29,
   "id": "41d00600",
   "metadata": {},
   "outputs": [
    {
     "name": "stdout",
     "output_type": "stream",
     "text": [
      "['pear', 'Pawpaw', 'Orange', 'Lemon', 'Cherry', 'Banana', 'Apple', 'Apple']\n"
     ]
    }
   ],
   "source": [
    "fruits.remove('Cherry')\n",
    "print(fruits)"
   ]
  },
  {
   "cell_type": "code",
   "execution_count": 31,
   "id": "32369535",
   "metadata": {},
   "outputs": [
    {
     "name": "stdout",
     "output_type": "stream",
     "text": [
      "['pear', 'Pawpaw', 'Orange', 'Lemon', 'Cherry', 'Banana', 'Apple', 'Apple']\n"
     ]
    }
   ],
   "source": [
    "fruits_copy = fruits.copy()\n",
    "print(fruits_copy)"
   ]
  },
  {
   "cell_type": "code",
   "execution_count": 33,
   "id": "692a2eb9",
   "metadata": {},
   "outputs": [
    {
     "name": "stdout",
     "output_type": "stream",
     "text": [
      "[]\n"
     ]
    }
   ],
   "source": [
    "fruits_copy.clear()\n",
    "print(fruits_copy)"
   ]
  },
  {
   "cell_type": "code",
   "execution_count": 34,
   "id": "c240fa35",
   "metadata": {},
   "outputs": [
    {
     "ename": "NameError",
     "evalue": "name 'fruits_copy' is not defined",
     "output_type": "error",
     "traceback": [
      "\u001b[1;31m---------------------------------------------------------------------------\u001b[0m",
      "\u001b[1;31mNameError\u001b[0m                                 Traceback (most recent call last)",
      "Input \u001b[1;32mIn [34]\u001b[0m, in \u001b[0;36m<cell line: 2>\u001b[1;34m()\u001b[0m\n\u001b[0;32m      1\u001b[0m \u001b[38;5;28;01mdel\u001b[39;00m(fruits_copy)\n\u001b[1;32m----> 2\u001b[0m \u001b[38;5;28mprint\u001b[39m(\u001b[43mfruits_copy\u001b[49m)\n",
      "\u001b[1;31mNameError\u001b[0m: name 'fruits_copy' is not defined"
     ]
    }
   ],
   "source": [
    "del(fruits_copy)\n",
    "print(fruits_copy)"
   ]
  },
  {
   "cell_type": "markdown",
   "id": "373022b2",
   "metadata": {},
   "source": [
    "# Dictionary"
   ]
  },
  {
   "cell_type": "code",
   "execution_count": 38,
   "id": "b58cd39e",
   "metadata": {},
   "outputs": [],
   "source": [
    "records = {\n",
    "   'Name':'Bola James',\n",
    "   'Age':45,\n",
    "    'Gender':'Male',\n",
    "    'Height':1.85,\n",
    "    'Weight':75\n",
    "}        "
   ]
  },
  {
   "cell_type": "code",
   "execution_count": 39,
   "id": "cea08f7c",
   "metadata": {},
   "outputs": [
    {
     "name": "stdout",
     "output_type": "stream",
     "text": [
      "Male\n"
     ]
    }
   ],
   "source": [
    "print(records['Gender'])"
   ]
  },
  {
   "cell_type": "code",
   "execution_count": 40,
   "id": "8d13527c",
   "metadata": {},
   "outputs": [
    {
     "name": "stdout",
     "output_type": "stream",
     "text": [
      "dict_keys(['Name', 'Age', 'Gender', 'Height', 'Weight'])\n"
     ]
    }
   ],
   "source": [
    "print(records.keys())"
   ]
  },
  {
   "cell_type": "code",
   "execution_count": 41,
   "id": "043a20ad",
   "metadata": {},
   "outputs": [
    {
     "name": "stdout",
     "output_type": "stream",
     "text": [
      "dict_values(['Bola James', 45, 'Male', 1.85, 75])\n"
     ]
    }
   ],
   "source": [
    "print(records.values())"
   ]
  },
  {
   "cell_type": "code",
   "execution_count": 42,
   "id": "b8282552",
   "metadata": {},
   "outputs": [
    {
     "name": "stdout",
     "output_type": "stream",
     "text": [
      "dict_items([('Name', 'Bola James'), ('Age', 45), ('Gender', 'Male'), ('Height', 1.85), ('Weight', 75)])\n"
     ]
    }
   ],
   "source": [
    "print(records.items())"
   ]
  },
  {
   "cell_type": "code",
   "execution_count": 44,
   "id": "40f14560",
   "metadata": {},
   "outputs": [
    {
     "name": "stdout",
     "output_type": "stream",
     "text": [
      "{'Name': 'Bola James', 'Age': 45, 'Gender': 'Male', 'Height': 1.95, 'Weight': 75}\n"
     ]
    }
   ],
   "source": [
    "r = {'Height':1.95}\n",
    "records.update(r)\n",
    "print(records)"
   ]
  },
  {
   "cell_type": "code",
   "execution_count": 46,
   "id": "52513168",
   "metadata": {},
   "outputs": [
    {
     "name": "stdout",
     "output_type": "stream",
     "text": [
      "{'Name': 'Bola James', 'Age': 45, 'Gender': 'Male', 'Height': 1.95, 'Weight': 75, 'Address': 'Highway street'}\n"
     ]
    }
   ],
   "source": [
    "records['Address'] = 'Highway street'\n",
    "print(records)"
   ]
  },
  {
   "cell_type": "code",
   "execution_count": 47,
   "id": "b8dee360",
   "metadata": {},
   "outputs": [
    {
     "name": "stdout",
     "output_type": "stream",
     "text": [
      "{'Name': 'Bola James', 'Age': 45, 'Gender': 'Male', 'Height': 1.95, 'Weight': 75}\n"
     ]
    }
   ],
   "source": [
    "records.popitem()\n",
    "print(records)"
   ]
  },
  {
   "cell_type": "code",
   "execution_count": 48,
   "id": "d573ee2a",
   "metadata": {},
   "outputs": [
    {
     "name": "stdout",
     "output_type": "stream",
     "text": [
      "{'Name': 'Bola James', 'Age': 45, 'Gender': 'Male', 'Height': 1.95, 'Weight': 75}\n"
     ]
    }
   ],
   "source": [
    "record.pop('Age')\n",
    "print(records)"
   ]
  },
  {
   "cell_type": "code",
   "execution_count": 49,
   "id": "55234763",
   "metadata": {},
   "outputs": [],
   "source": [
    "family = {\n",
    "     'firstchild':['Ade',30,'Male'],\n",
    "     'secondchild':['Fatima',26,'Female'],\n",
    "     'thirdchild':['Bose',23,'Female']\n",
    "}    \n",
    "    "
   ]
  },
  {
   "cell_type": "code",
   "execution_count": 50,
   "id": "38eb9223",
   "metadata": {},
   "outputs": [
    {
     "name": "stdout",
     "output_type": "stream",
     "text": [
      "['Fatima', 26, 'Female']\n"
     ]
    }
   ],
   "source": [
    "print(family['secondchild'])"
   ]
  },
  {
   "cell_type": "code",
   "execution_count": 51,
   "id": "90292708",
   "metadata": {},
   "outputs": [
    {
     "name": "stdout",
     "output_type": "stream",
     "text": [
      "26\n"
     ]
    }
   ],
   "source": [
    "print(family['secondchild'][1])"
   ]
  },
  {
   "cell_type": "code",
   "execution_count": null,
   "id": "772f907b",
   "metadata": {},
   "outputs": [],
   "source": []
  }
 ],
 "metadata": {
  "kernelspec": {
   "display_name": "Python 3 (ipykernel)",
   "language": "python",
   "name": "python3"
  },
  "language_info": {
   "codemirror_mode": {
    "name": "ipython",
    "version": 3
   },
   "file_extension": ".py",
   "mimetype": "text/x-python",
   "name": "python",
   "nbconvert_exporter": "python",
   "pygments_lexer": "ipython3",
   "version": "3.9.12"
  }
 },
 "nbformat": 4,
 "nbformat_minor": 5
}
