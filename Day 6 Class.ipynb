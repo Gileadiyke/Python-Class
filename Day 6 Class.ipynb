{
 "cells": [
  {
   "cell_type": "markdown",
   "id": "259759ca",
   "metadata": {},
   "source": [
    "# FUNCTION"
   ]
  },
  {
   "cell_type": "code",
   "execution_count": 1,
   "id": "fb84102b",
   "metadata": {},
   "outputs": [],
   "source": [
    "def CLASS_PROJECT():\n",
    "    return 'Welcome to python class project'"
   ]
  },
  {
   "cell_type": "code",
   "execution_count": 2,
   "id": "9f974883",
   "metadata": {},
   "outputs": [
    {
     "data": {
      "text/plain": [
       "'Welcome to python class project'"
      ]
     },
     "execution_count": 2,
     "metadata": {},
     "output_type": "execute_result"
    }
   ],
   "source": [
    "CLASS_PROJECT()"
   ]
  },
  {
   "cell_type": "code",
   "execution_count": 4,
   "id": "b78630f5",
   "metadata": {},
   "outputs": [
    {
     "data": {
      "text/plain": [
       "'Welcome to python class project'"
      ]
     },
     "execution_count": 4,
     "metadata": {},
     "output_type": "execute_result"
    }
   ],
   "source": [
    "CLASS_PROJECT()"
   ]
  },
  {
   "cell_type": "code",
   "execution_count": 6,
   "id": "2056d5d2",
   "metadata": {},
   "outputs": [
    {
     "data": {
      "text/plain": [
       "'Welcome to python class project Ade Johnson'"
      ]
     },
     "execution_count": 6,
     "metadata": {},
     "output_type": "execute_result"
    }
   ],
   "source": [
    "def class_project(name):\n",
    "    return f'Welcome to python class project {name}'\n",
    "\n",
    "class_project('Ade Johnson')"
   ]
  },
  {
   "cell_type": "code",
   "execution_count": 13,
   "id": "46c515f3",
   "metadata": {},
   "outputs": [
    {
     "name": "stdout",
     "output_type": "stream",
     "text": [
      "_____________________ ITEM SHIPMENT DESCRITION _______________________\n",
      "ITEM NAME:Tecno Camon 19 Pro \n",
      "ITEM CATEGORY:Mobile Phones\n",
      "ITEM CONDITION:Fragile\n",
      "ITEM QUANTITY:5\n",
      "ITEM PRICE:595000\n",
      "ITEM WEIGHT:5\n",
      "ITEM DESTINATION:Kano\n",
      "\n",
      "The shipping price for the above item is #6250\n"
     ]
    }
   ],
   "source": [
    "def shipment(location,itemname,itemcondition,itemcategory,itemquantity,itemprice,itemweight,defaultweight):\n",
    "    print(f'''_____________________ ITEM SHIPMENT DESCRITION _______________________\n",
    "ITEM NAME:{itemname} \n",
    "ITEM CATEGORY:{itemcategory}\n",
    "ITEM CONDITION:{itemcondition}\n",
    "ITEM QUANTITY:{itemquantity}\n",
    "ITEM PRICE:{itemprice * itemquantity}\n",
    "ITEM WEIGHT:{itemweight}\n",
    "ITEM DESTINATION:{location}\n",
    "''')\n",
    "    if itemcondition == 'Non-fragile' and itemweight <= defaultweight:\n",
    "        print(f'The shipping price for the above item is #{itemquatity *itemweight * 100}')\n",
    "    elif itemcondition == 'Fragile' and itemweight <= defaultweight:    \n",
    "        print(f'The shipping price for the above item is #{itemquantity *itemweight * 250}')\n",
    "    elif itemcondition == 'Fragile' and itemweight > defaultweight:    \n",
    "        print(f'The shipping price for the above item is #{itemquatity *itemweight * 500}')   \n",
    "    elif itemcondition == 'Non-fragile' and itemweight > defaultweight:    \n",
    "        print(f'The shipping price for the above item is #{itemquatity *itemweight * 300}') \n",
    "        \n",
    "shipment('Kano','Tecno Camon 19 Pro','Fragile','Mobile Phones',5,119000,5,23)        \n",
    "        "
   ]
  },
  {
   "cell_type": "code",
   "execution_count": 14,
   "id": "ce1cbbe7",
   "metadata": {},
   "outputs": [],
   "source": [
    "# User Defined Functions\n",
    "# Anonymous Function\n"
   ]
  },
  {
   "cell_type": "code",
   "execution_count": null,
   "id": "06937c3c",
   "metadata": {},
   "outputs": [],
   "source": []
  }
 ],
 "metadata": {
  "kernelspec": {
   "display_name": "Python 3 (ipykernel)",
   "language": "python",
   "name": "python3"
  },
  "language_info": {
   "codemirror_mode": {
    "name": "ipython",
    "version": 3
   },
   "file_extension": ".py",
   "mimetype": "text/x-python",
   "name": "python",
   "nbconvert_exporter": "python",
   "pygments_lexer": "ipython3",
   "version": "3.9.12"
  }
 },
 "nbformat": 4,
 "nbformat_minor": 5
}
