{
 "cells": [
  {
   "cell_type": "code",
   "execution_count": 5,
   "id": "d04d7820",
   "metadata": {},
   "outputs": [
    {
     "name": "stdout",
     "output_type": "stream",
     "text": [
      "9\n"
     ]
    }
   ],
   "source": [
    "numbers = (46,53,45,48,55,45,49,51,51,58,50,55,53,57,50,46,55,55,47,57,55)\n",
    "print(numbers.index(58))\n"
   ]
  },
  {
   "cell_type": "code",
   "execution_count": 7,
   "id": "58e531d6",
   "metadata": {},
   "outputs": [
    {
     "name": "stdout",
     "output_type": "stream",
     "text": [
      "5\n"
     ]
    }
   ],
   "source": [
    "print(numbers.count(55))"
   ]
  },
  {
   "cell_type": "code",
   "execution_count": 3,
   "id": "060ec616",
   "metadata": {},
   "outputs": [
    {
     "name": "stdout",
     "output_type": "stream",
     "text": [
      "2\n"
     ]
    }
   ],
   "source": [
    "print(numbers.count(51))"
   ]
  },
  {
   "cell_type": "code",
   "execution_count": 38,
   "id": "b0a764c2",
   "metadata": {},
   "outputs": [
    {
     "name": "stdout",
     "output_type": "stream",
     "text": [
      "49\n"
     ]
    }
   ],
   "source": [
    "print(numbers[6])"
   ]
  },
  {
   "cell_type": "markdown",
   "id": "69e3995f",
   "metadata": {},
   "source": [
    "# LIST"
   ]
  },
  {
   "cell_type": "code",
   "execution_count": 13,
   "id": "f249739d",
   "metadata": {},
   "outputs": [
    {
     "name": "stdout",
     "output_type": "stream",
     "text": [
      "9\n"
     ]
    }
   ],
   "source": [
    "numbers = [46,53,45,48,55,45,49,51,51,58,50,55,53,57,50,46,55,55,47,57,55]\n",
    "print(numbers.index(58))\n"
   ]
  },
  {
   "cell_type": "code",
   "execution_count": 14,
   "id": "c42b9ce2",
   "metadata": {},
   "outputs": [
    {
     "name": "stdout",
     "output_type": "stream",
     "text": [
      "2\n"
     ]
    }
   ],
   "source": [
    "print(numbers.count(51))"
   ]
  },
  {
   "cell_type": "code",
   "execution_count": 15,
   "id": "9c8fb32a",
   "metadata": {},
   "outputs": [
    {
     "name": "stdout",
     "output_type": "stream",
     "text": [
      "[]\n"
     ]
    }
   ],
   "source": [
    "print(numbers[49:57])"
   ]
  },
  {
   "cell_type": "code",
   "execution_count": 16,
   "id": "ab171703",
   "metadata": {},
   "outputs": [
    {
     "name": "stdout",
     "output_type": "stream",
     "text": [
      "[46, 53, 45, 48, 55, 45, 49, 51, 51, 58, 50, 55, 53, 57, 50, 46, 55, 55, 47, 57, 55, 49]\n"
     ]
    }
   ],
   "source": [
    "numbers.insert(69,49)\n",
    "print(numbers)"
   ]
  },
  {
   "cell_type": "code",
   "execution_count": 17,
   "id": "df7dd46e",
   "metadata": {},
   "outputs": [
    {
     "name": "stdout",
     "output_type": "stream",
     "text": [
      "[46, 53, 45, 48, 55, 45, 49, 51, 51, 58, 50, 55, 53, 57, 50, 46, 55, 55, 47, 57, 55, 49, 89, 85, 36, 95, 45, 78]\n"
     ]
    }
   ],
   "source": [
    "newlist = [89,85,36,95,45,78]\n",
    "numbers.extend(newlist)\n",
    "print(numbers)"
   ]
  },
  {
   "cell_type": "markdown",
   "id": "328f2ef9",
   "metadata": {},
   "source": [
    "# DICTIONARY"
   ]
  },
  {
   "cell_type": "code",
   "execution_count": 30,
   "id": "a85c93ff",
   "metadata": {},
   "outputs": [
    {
     "name": "stdout",
     "output_type": "stream",
     "text": [
      "26\n"
     ]
    }
   ],
   "source": [
    "clubs = {\n",
    "     'manunited':['Ade',30,'England'],\n",
    "     'chelsea':['Fatima',26,'England'],\n",
    "     'arsenal':['Bose',23,'England'],\n",
    "    'newcastle':['Prince',30,'America'],\n",
    "     'fulham':['Fatima',26,'England'],\n",
    "     'liverpool':['Bose',23,'England'],\n",
    "    'brentforld':['Ade',30,'England'],\n",
    "     'westham':['Fatima',26,'England'],\n",
    "     'wolves':['Bose',23,'England'],\n",
    "    'everton':['Bose',23,'England']\n",
    "}    \n",
    "print(clubs['chelsea'][1])\n",
    "    "
   ]
  },
  {
   "cell_type": "code",
   "execution_count": 31,
   "id": "6558a511",
   "metadata": {},
   "outputs": [
    {
     "name": "stdout",
     "output_type": "stream",
     "text": [
      "26\n"
     ]
    }
   ],
   "source": [
    "print(clubs['fulham'][1])"
   ]
  },
  {
   "cell_type": "code",
   "execution_count": 36,
   "id": "c4019b25",
   "metadata": {},
   "outputs": [
    {
     "name": "stdout",
     "output_type": "stream",
     "text": [
      "23\n"
     ]
    }
   ],
   "source": [
    "print(clubs['wolves'][1])"
   ]
  },
  {
   "cell_type": "code",
   "execution_count": 37,
   "id": "5947a690",
   "metadata": {},
   "outputs": [
    {
     "name": "stdout",
     "output_type": "stream",
     "text": [
      "23\n"
     ]
    }
   ],
   "source": [
    "print(clubs['everton'][1])"
   ]
  },
  {
   "cell_type": "code",
   "execution_count": null,
   "id": "fdec6c47",
   "metadata": {},
   "outputs": [],
   "source": []
  }
 ],
 "metadata": {
  "kernelspec": {
   "display_name": "Python 3 (ipykernel)",
   "language": "python",
   "name": "python3"
  },
  "language_info": {
   "codemirror_mode": {
    "name": "ipython",
    "version": 3
   },
   "file_extension": ".py",
   "mimetype": "text/x-python",
   "name": "python",
   "nbconvert_exporter": "python",
   "pygments_lexer": "ipython3",
   "version": "3.9.12"
  }
 },
 "nbformat": 4,
 "nbformat_minor": 5
}
