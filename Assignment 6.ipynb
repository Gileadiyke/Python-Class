{
 "cells": [
  {
   "cell_type": "markdown",
   "id": "81d714a1",
   "metadata": {},
   "source": [
    "# Using class and object develops a simple transaction program with balance as the attribute and deposit, withdraw and transfer as the methods\n",
    "\n",
    "# Note: Use while loop to make it a running system"
   ]
  },
  {
   "cell_type": "code",
   "execution_count": 1,
   "id": "2754ab22",
   "metadata": {},
   "outputs": [],
   "source": [
    "class transaction:\n",
    "    def __init__(self):\n",
    "        self.balance = 0\n",
    "        \n",
    "    def deposit(self):\n",
    "        amount = float(input('Enter the amount to be deposited'))\n",
    "        self.balance = self.balance + amount\n",
    "        print(f'Transaction sucessful and available balance is {self.balance}')\n",
    "    def withdraw(self):   \n",
    "        amount = float(input('Enter the amount to be withdrew'))\n",
    "        self.balance = self.balance - amount\n",
    "        print(f'Transaction sucessful and available balance is {self.balance}')\n",
    "    def transfer(self):   \n",
    "        amount = float(input('Enter the amount to be transfered'))\n",
    "        destination = input('Enter the destination account:')\n",
    "        self.balance = self.balance - amount\n",
    "        print(f'Transaction sucessful and available balance is {self.balance}')   \n",
    "        \n",
    "customer1 = transaction()     "
   ]
  },
  {
   "cell_type": "code",
   "execution_count": 2,
   "id": "f6ea5e5c",
   "metadata": {},
   "outputs": [
    {
     "name": "stdout",
     "output_type": "stream",
     "text": [
      "Enter the amount to be deposited10000000\n",
      "Transaction sucessful and available balance is 10000000.0\n"
     ]
    }
   ],
   "source": [
    "customer1.deposit()"
   ]
  },
  {
   "cell_type": "code",
   "execution_count": 3,
   "id": "ff6ed710",
   "metadata": {},
   "outputs": [
    {
     "name": "stdout",
     "output_type": "stream",
     "text": [
      "Enter the amount to be withdrew3000000\n",
      "Transaction sucessful and available balance is 7000000.0\n"
     ]
    }
   ],
   "source": [
    "customer1.withdraw()"
   ]
  },
  {
   "cell_type": "code",
   "execution_count": 4,
   "id": "3f40eda7",
   "metadata": {},
   "outputs": [
    {
     "name": "stdout",
     "output_type": "stream",
     "text": [
      "Enter the amount to be transfered4000000\n",
      "Enter the destination account:65487636989\n",
      "Transaction sucessful and available balance is 3000000.0\n"
     ]
    }
   ],
   "source": [
    "customer1.transfer()"
   ]
  },
  {
   "cell_type": "code",
   "execution_count": null,
   "id": "233a5eba",
   "metadata": {},
   "outputs": [],
   "source": []
  }
 ],
 "metadata": {
  "kernelspec": {
   "display_name": "Python 3 (ipykernel)",
   "language": "python",
   "name": "python3"
  },
  "language_info": {
   "codemirror_mode": {
    "name": "ipython",
    "version": 3
   },
   "file_extension": ".py",
   "mimetype": "text/x-python",
   "name": "python",
   "nbconvert_exporter": "python",
   "pygments_lexer": "ipython3",
   "version": "3.9.12"
  }
 },
 "nbformat": 4,
 "nbformat_minor": 5
}
