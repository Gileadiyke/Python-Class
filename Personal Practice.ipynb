{
 "cells": [
  {
   "cell_type": "markdown",
   "id": "279e23da",
   "metadata": {},
   "source": [
    "# Python-List "
   ]
  },
  {
   "cell_type": "code",
   "execution_count": 1,
   "id": "e7c6be8c",
   "metadata": {},
   "outputs": [
    {
     "name": "stdout",
     "output_type": "stream",
     "text": [
      "['Newton', 'Ram', 'Steve', 'Mohan', 'Abdul']\n"
     ]
    }
   ],
   "source": [
    "names = [\"Jeff\", \"Bill\", \"Steve\", \"Mohan\"] \n",
    "names[0]=\"Newton\"\n",
    "names[1]=\"Ram\"\n",
    "\n",
    "names.append(\"Abdul\") \n",
    "print(names)"
   ]
  },
  {
   "cell_type": "code",
   "execution_count": 2,
   "id": "65886261",
   "metadata": {},
   "outputs": [
    {
     "name": "stdout",
     "output_type": "stream",
     "text": [
      "After del names[0]:  ['Bill', 'Steve', 'Mohan']\n"
     ]
    }
   ],
   "source": [
    "names=[\"Jeff\", \"Bill\", \"Steve\", \"Mohan\"] \n",
    "del names[0]\n",
    "print(\"After del names[0]: \", names)"
   ]
  },
  {
   "cell_type": "code",
   "execution_count": 6,
   "id": "356203f2",
   "metadata": {},
   "outputs": [
    {
     "name": "stdout",
     "output_type": "stream",
     "text": [
      "Please provide your age:32\n",
      "Please provide your gender (M or F):M\n",
      "Please provide your marital status (M or S)S\n",
      "Employee can work any where\n"
     ]
    }
   ],
   "source": [
    "age = int(input('Please provide your age:'))\n",
    "gender = input('Please provide your gender (M or F):')\n",
    "maritalstatus = input('Please provide your marital status (M or S)' )\n",
    "if gender == 'F':\n",
    "   print('Employee will work only in the urban area') \n",
    "elif gender == 'M'and age >= 20 and age < 40:\n",
    "     print('Employee can work any where')\n",
    "elif gender == 'M'and age >= 40 and age < 60: \n",
    "     print('Employee will work only in the urban area')\n",
    "else:\n",
    "    print('ERROR')                  \n",
    "                      "
   ]
  },
  {
   "cell_type": "code",
   "execution_count": 5,
   "id": "f637d394",
   "metadata": {},
   "outputs": [
    {
     "name": "stdout",
     "output_type": "stream",
     "text": [
      "Bill\n"
     ]
    }
   ],
   "source": [
    "print(names.pop(0))"
   ]
  },
  {
   "cell_type": "code",
   "execution_count": 6,
   "id": "d12daff8",
   "metadata": {},
   "outputs": [
    {
     "name": "stdout",
     "output_type": "stream",
     "text": [
      "After names.pop(0):  ['Steve', 'Mohan']\n"
     ]
    }
   ],
   "source": [
    "print(\"After names.pop(0): \", names)"
   ]
  },
  {
   "cell_type": "code",
   "execution_count": 7,
   "id": "442cc44c",
   "metadata": {},
   "outputs": [
    {
     "name": "stdout",
     "output_type": "stream",
     "text": [
      "After names.pop():  ['Steve']\n"
     ]
    }
   ],
   "source": [
    "names.pop()\n",
    "print(\"After names.pop(): \", names)"
   ]
  },
  {
   "cell_type": "code",
   "execution_count": 8,
   "id": "2accef7d",
   "metadata": {},
   "outputs": [
    {
     "ename": "NameError",
     "evalue": "name 'names' is not defined",
     "output_type": "error",
     "traceback": [
      "\u001b[1;31m---------------------------------------------------------------------------\u001b[0m",
      "\u001b[1;31mNameError\u001b[0m                                 Traceback (most recent call last)",
      "Input \u001b[1;32mIn [8]\u001b[0m, in \u001b[0;36m<cell line: 2>\u001b[1;34m()\u001b[0m\n\u001b[0;32m      1\u001b[0m \u001b[38;5;28;01mdel\u001b[39;00m names\n\u001b[1;32m----> 2\u001b[0m \u001b[38;5;28mprint\u001b[39m(\u001b[43mnames\u001b[49m)\n",
      "\u001b[1;31mNameError\u001b[0m: name 'names' is not defined"
     ]
    }
   ],
   "source": [
    "del names\n",
    "print(names)"
   ]
  },
  {
   "cell_type": "code",
   "execution_count": 9,
   "id": "eb575a5d",
   "metadata": {},
   "outputs": [
    {
     "ename": "NameError",
     "evalue": "name 'numbers' is not defined",
     "output_type": "error",
     "traceback": [
      "\u001b[1;31m---------------------------------------------------------------------------\u001b[0m",
      "\u001b[1;31mNameError\u001b[0m                                 Traceback (most recent call last)",
      "Input \u001b[1;32mIn [9]\u001b[0m, in \u001b[0;36m<cell line: 1>\u001b[1;34m()\u001b[0m\n\u001b[1;32m----> 1\u001b[0m \u001b[38;5;28mprint\u001b[39m(\u001b[43mnumbers\u001b[49m[\u001b[38;5;241m58\u001b[39m])\n",
      "\u001b[1;31mNameError\u001b[0m: name 'numbers' is not defined"
     ]
    }
   ],
   "source": [
    "print(numbers[58])"
   ]
  },
  {
   "cell_type": "code",
   "execution_count": null,
   "id": "d9405c0d",
   "metadata": {},
   "outputs": [],
   "source": []
  }
 ],
 "metadata": {
  "kernelspec": {
   "display_name": "Python 3 (ipykernel)",
   "language": "python",
   "name": "python3"
  },
  "language_info": {
   "codemirror_mode": {
    "name": "ipython",
    "version": 3
   },
   "file_extension": ".py",
   "mimetype": "text/x-python",
   "name": "python",
   "nbconvert_exporter": "python",
   "pygments_lexer": "ipython3",
   "version": "3.9.12"
  }
 },
 "nbformat": 4,
 "nbformat_minor": 5
}
