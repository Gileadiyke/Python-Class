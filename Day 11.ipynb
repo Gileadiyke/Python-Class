{
 "cells": [
  {
   "cell_type": "markdown",
   "id": "1e059cdb",
   "metadata": {},
   "source": [
    "# DATE AND TIME"
   ]
  },
  {
   "cell_type": "code",
   "execution_count": 1,
   "id": "76dca516",
   "metadata": {},
   "outputs": [],
   "source": [
    "import datetime"
   ]
  },
  {
   "cell_type": "code",
   "execution_count": 2,
   "id": "33bb2fa4",
   "metadata": {},
   "outputs": [
    {
     "name": "stdout",
     "output_type": "stream",
     "text": [
      "['MAXYEAR', 'MINYEAR', '__all__', '__builtins__', '__cached__', '__doc__', '__file__', '__loader__', '__name__', '__package__', '__spec__', 'date', 'datetime', 'datetime_CAPI', 'sys', 'time', 'timedelta', 'timezone', 'tzinfo']\n"
     ]
    }
   ],
   "source": [
    "print(dir(datetime))"
   ]
  },
  {
   "cell_type": "code",
   "execution_count": 3,
   "id": "0859657a",
   "metadata": {},
   "outputs": [
    {
     "data": {
      "text/plain": [
       "datetime.date(2023, 1, 12)"
      ]
     },
     "execution_count": 3,
     "metadata": {},
     "output_type": "execute_result"
    }
   ],
   "source": [
    "date1 = datetime.date(2023,1,12)\n",
    "date1"
   ]
  },
  {
   "cell_type": "code",
   "execution_count": 4,
   "id": "3e02ac8f",
   "metadata": {},
   "outputs": [
    {
     "data": {
      "text/plain": [
       "datetime.date"
      ]
     },
     "execution_count": 4,
     "metadata": {},
     "output_type": "execute_result"
    }
   ],
   "source": [
    "type(date1)"
   ]
  },
  {
   "cell_type": "code",
   "execution_count": 7,
   "id": "39801431",
   "metadata": {},
   "outputs": [
    {
     "name": "stdout",
     "output_type": "stream",
     "text": [
      "2023\n",
      "1\n",
      "12\n",
      "3\n",
      "4\n"
     ]
    }
   ],
   "source": [
    "print(date1.year)\n",
    "print(date1.month)\n",
    "print(date1.day)\n",
    "print(date1.weekday())\n",
    "print(date1.isoweekday())\n"
   ]
  },
  {
   "cell_type": "code",
   "execution_count": 8,
   "id": "46c196db",
   "metadata": {},
   "outputs": [
    {
     "name": "stdout",
     "output_type": "stream",
     "text": [
      "2023-02-08\n"
     ]
    }
   ],
   "source": [
    "currentdate = datetime.date.today()\n",
    "print(currentdate)"
   ]
  },
  {
   "cell_type": "code",
   "execution_count": 9,
   "id": "2524d09b",
   "metadata": {},
   "outputs": [],
   "source": [
    "#strftime: This is used for modification of date and time "
   ]
  },
  {
   "cell_type": "code",
   "execution_count": 11,
   "id": "b3615100",
   "metadata": {},
   "outputs": [
    {
     "data": {
      "text/plain": [
       "'08 of February, 2023'"
      ]
     },
     "execution_count": 11,
     "metadata": {},
     "output_type": "execute_result"
    }
   ],
   "source": [
    "currentdate.strftime('%d of %B, %Y')"
   ]
  },
  {
   "cell_type": "code",
   "execution_count": 12,
   "id": "988dda33",
   "metadata": {},
   "outputs": [
    {
     "name": "stdout",
     "output_type": "stream",
     "text": [
      "10:25:45.454545\n"
     ]
    }
   ],
   "source": [
    "time1 = datetime.time(10,25,45,454545)\n",
    "print(time1)"
   ]
  },
  {
   "cell_type": "code",
   "execution_count": 15,
   "id": "fe7408e9",
   "metadata": {},
   "outputs": [
    {
     "name": "stdout",
     "output_type": "stream",
     "text": [
      "10\n",
      "25\n",
      "45\n",
      "454545\n"
     ]
    }
   ],
   "source": [
    "print(time1.hour)\n",
    "print(time1.minute)\n",
    "print(time1.second)\n",
    "print(time1.microsecond)\n"
   ]
  },
  {
   "cell_type": "code",
   "execution_count": 17,
   "id": "a274478a",
   "metadata": {},
   "outputs": [
    {
     "name": "stdout",
     "output_type": "stream",
     "text": [
      "10:38:55.858979\n"
     ]
    }
   ],
   "source": [
    "currenttime = datetime.datetime.now().time()\n",
    "print(currenttime)"
   ]
  },
  {
   "cell_type": "code",
   "execution_count": 18,
   "id": "a640bfac",
   "metadata": {},
   "outputs": [
    {
     "data": {
      "text/plain": [
       "'10::38::AM'"
      ]
     },
     "execution_count": 18,
     "metadata": {},
     "output_type": "execute_result"
    }
   ],
   "source": [
    "currenttime.strftime('%I::%M::%p')"
   ]
  },
  {
   "cell_type": "markdown",
   "id": "8538826c",
   "metadata": {},
   "source": [
    "# EXERCISE ONE\n",
    "# WRITE A PYTHON PROGRAM TO SEND A REMINDER MESSAGE TO SIX OF REGISTERED STUDENTS OF THE DATE AND TIME OF THEIR EXAM"
   ]
  },
  {
   "cell_type": "code",
   "execution_count": 22,
   "id": "9d70ab25",
   "metadata": {},
   "outputs": [
    {
     "name": "stdout",
     "output_type": "stream",
     "text": [
      "hey Ade this is a kind reminder for your exam slated for 15 of April, 2023 by 04PM prompt\n",
      "hey Mary this is a kind reminder for your exam slated for 15 of April, 2023 by 04PM prompt\n",
      "hey John this is a kind reminder for your exam slated for 15 of April, 2023 by 04PM prompt\n",
      "hey Hope this is a kind reminder for your exam slated for 15 of April, 2023 by 04PM prompt\n",
      "hey Faith this is a kind reminder for your exam slated for 15 of April, 2023 by 04PM prompt\n"
     ]
    }
   ],
   "source": [
    "student = ['Ade','Mary','John','Hope','Faith']\n",
    "examdate = datetime.datetime(2023,4,15,16,0,0)\n",
    "for name in student:\n",
    "    print(f'hey {name} this is a kind reminder for your exam slated for {examdate.strftime(\"%d of %B, %Y\")} by {examdate.strftime(\"%I%p\")} prompt')    "
   ]
  },
  {
   "cell_type": "code",
   "execution_count": 23,
   "id": "6d0e4dbb",
   "metadata": {},
   "outputs": [],
   "source": [
    "#strptime : this is used to convert date and time in string to tatatime format"
   ]
  },
  {
   "cell_type": "code",
   "execution_count": 27,
   "id": "e2b840cb",
   "metadata": {},
   "outputs": [
    {
     "name": "stdout",
     "output_type": "stream",
     "text": [
      "Please Provide your date [mm/dd/yy]04/24/2034\n",
      "2034-04-24\n"
     ]
    }
   ],
   "source": [
    "engagementdate = input('Please Provide your date [mm/dd/yy]')\n",
    "date2 = datetime.datetime.strptime(engagementdate,'%m/%d/%Y').date()\n",
    "print(date2)"
   ]
  },
  {
   "cell_type": "code",
   "execution_count": 28,
   "id": "40745770",
   "metadata": {},
   "outputs": [
    {
     "data": {
      "text/plain": [
       "datetime.timedelta(days=27)"
      ]
     },
     "execution_count": 28,
     "metadata": {},
     "output_type": "execute_result"
    }
   ],
   "source": [
    "#time delta: This is difference beytween two datetime\n",
    "currentdate - date1"
   ]
  },
  {
   "cell_type": "code",
   "execution_count": 29,
   "id": "a466a4b2",
   "metadata": {},
   "outputs": [
    {
     "data": {
      "text/plain": [
       "datetime.date(2025, 12, 24)"
      ]
     },
     "execution_count": 29,
     "metadata": {},
     "output_type": "execute_result"
    }
   ],
   "source": [
    "currentdate + datetime.timedelta(weeks = 150)"
   ]
  },
  {
   "cell_type": "markdown",
   "id": "4f4f17f8",
   "metadata": {},
   "source": [
    "# EXERCISE TWO\n",
    "\n",
    "# WRITE A PYTHON PROGRAM TO TELL A USER HOW MANY WEEKS AND DAYS THEY HAVE UNTIL THEIR APPOINTMENT FROM THE CURRENT DATE"
   ]
  },
  {
   "cell_type": "code",
   "execution_count": 31,
   "id": "0912dffe",
   "metadata": {},
   "outputs": [
    {
     "name": "stdout",
     "output_type": "stream",
     "text": [
      "Enter Your Name:John Oda\n",
      "Enter your Appointment Date [d/m/Y]:15/05/2023\n",
      "Hey John Oda you have 13 weeks and 5 days until your appointment\n"
     ]
    }
   ],
   "source": [
    "name = input('Enter Your Name:')\n",
    "strappointmentdate = input('Enter your Appointment Date [d/m/Y]:')\n",
    "appointmentdate = datetime.datetime.strptime(strappointmentdate,'%d/%m/%Y').date()\n",
    "currentdate = datetime.date.today()\n",
    "diff = appointmentdate - currentdate\n",
    "trw = diff.days // 7\n",
    "trd = diff.days % 7\n",
    "print(f'Hey {name} you have {trw} weeks and {trd} days until your appointment')\n"
   ]
  },
  {
   "cell_type": "code",
   "execution_count": null,
   "id": "7a6ca364",
   "metadata": {},
   "outputs": [],
   "source": []
  }
 ],
 "metadata": {
  "kernelspec": {
   "display_name": "Python 3 (ipykernel)",
   "language": "python",
   "name": "python3"
  },
  "language_info": {
   "codemirror_mode": {
    "name": "ipython",
    "version": 3
   },
   "file_extension": ".py",
   "mimetype": "text/x-python",
   "name": "python",
   "nbconvert_exporter": "python",
   "pygments_lexer": "ipython3",
   "version": "3.9.12"
  }
 },
 "nbformat": 4,
 "nbformat_minor": 5
}
