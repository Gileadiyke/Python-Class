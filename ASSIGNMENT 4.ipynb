{
 "cells": [
  {
   "cell_type": "code",
   "execution_count": 1,
   "id": "17523239",
   "metadata": {},
   "outputs": [],
   "source": [
    "# QUESTION 1\n",
    "#WRITE A PYTHON FUNCTION TO CALCULATE THE BODY MASS INDEX (BMI) OF \n",
    "# A CUSTOMER USING THIS FORMULA [WEIGHT * HEIGHT^2]  \n",
    "# AND WRITE A CONDITION TO FIND OUT THE BMI CATEGORY"
   ]
  },
  {
   "cell_type": "code",
   "execution_count": 6,
   "id": "93a73fb3",
   "metadata": {},
   "outputs": [
    {
     "name": "stdout",
     "output_type": "stream",
     "text": [
      "_____________ The Customer Body Index Info ____________\n",
      "    \n",
      "CUSTOMER LOCATION:Gwarimpa\n",
      "CUSTOMER NAME:John\n",
      "CUSTOMER AGE:70\n",
      "CUSTOMER GENDER:Male\n",
      "CUSTOMETER HEIGHT:2.7\n",
      "CUSDTOMER WEIGHT:46\n",
      "CUSTOMERBMI:6.310013717421124\n",
      "\n"
     ]
    },
    {
     "ename": "TypeError",
     "evalue": "'<' not supported between instances of 'str' and 'float'",
     "output_type": "error",
     "traceback": [
      "\u001b[1;31m---------------------------------------------------------------------------\u001b[0m",
      "\u001b[1;31mTypeError\u001b[0m                                 Traceback (most recent call last)",
      "Input \u001b[1;32mIn [6]\u001b[0m, in \u001b[0;36m<cell line: 24>\u001b[1;34m()\u001b[0m\n\u001b[0;32m     22\u001b[0m     \u001b[38;5;28;01melif\u001b[39;00m\u001b[38;5;124m'\u001b[39m\u001b[38;5;124mCUSTOMERBMI\u001b[39m\u001b[38;5;124m'\u001b[39m \u001b[38;5;241m>\u001b[39m\u001b[38;5;241m=\u001b[39m\u001b[38;5;241m40.0\u001b[39m: \n\u001b[0;32m     23\u001b[0m         \u001b[38;5;28mprint\u001b[39m(\u001b[38;5;124mf\u001b[39m\u001b[38;5;124m'\u001b[39m\u001b[38;5;124mCustomer weight class 3 Obese\u001b[39m\u001b[38;5;124m'\u001b[39m)  \n\u001b[1;32m---> 24\u001b[0m \u001b[43mCUSTOMERDETAIL\u001b[49m\u001b[43m(\u001b[49m\u001b[38;5;124;43m'\u001b[39;49m\u001b[38;5;124;43mGwarimpa\u001b[39;49m\u001b[38;5;124;43m'\u001b[39;49m\u001b[43m,\u001b[49m\u001b[43m \u001b[49m\u001b[38;5;124;43m'\u001b[39;49m\u001b[38;5;124;43mJohn\u001b[39;49m\u001b[38;5;124;43m'\u001b[39;49m\u001b[43m,\u001b[49m\u001b[43m \u001b[49m\u001b[38;5;241;43m70\u001b[39;49m\u001b[43m,\u001b[49m\u001b[43m \u001b[49m\u001b[38;5;124;43m'\u001b[39;49m\u001b[38;5;124;43mMale\u001b[39;49m\u001b[38;5;124;43m'\u001b[39;49m\u001b[43m,\u001b[49m\u001b[43m \u001b[49m\u001b[38;5;241;43m2.7\u001b[39;49m\u001b[43m,\u001b[49m\u001b[43m \u001b[49m\u001b[38;5;241;43m46\u001b[39;49m\u001b[43m \u001b[49m\u001b[43m)\u001b[49m\n",
      "Input \u001b[1;32mIn [6]\u001b[0m, in \u001b[0;36mCUSTOMERDETAIL\u001b[1;34m(location, name, age, gender, height, weight)\u001b[0m\n\u001b[0;32m      1\u001b[0m \u001b[38;5;28;01mdef\u001b[39;00m \u001b[38;5;21mCUSTOMERDETAIL\u001b[39m(location, name, age, gender, height, weight):\n\u001b[0;32m      2\u001b[0m     \u001b[38;5;28mprint\u001b[39m(\u001b[38;5;124mf\u001b[39m\u001b[38;5;124m'''\u001b[39m\u001b[38;5;124m_____________ The Customer Body Index Info ____________\u001b[39m\n\u001b[0;32m      3\u001b[0m \u001b[38;5;124m    \u001b[39m\n\u001b[0;32m      4\u001b[0m \u001b[38;5;124mCUSTOMER LOCATION:\u001b[39m\u001b[38;5;132;01m{\u001b[39;00mlocation\u001b[38;5;132;01m}\u001b[39;00m\n\u001b[1;32m   (...)\u001b[0m\n\u001b[0;32m     10\u001b[0m \u001b[38;5;124mCUSTOMERBMI:\u001b[39m\u001b[38;5;132;01m{\u001b[39;00mweight\u001b[38;5;241m/\u001b[39m(height\u001b[38;5;241m*\u001b[39m\u001b[38;5;241m*\u001b[39m\u001b[38;5;241m2\u001b[39m)\u001b[38;5;132;01m}\u001b[39;00m\n\u001b[0;32m     11\u001b[0m \u001b[38;5;124m'''\u001b[39m)\n\u001b[1;32m---> 12\u001b[0m     \u001b[38;5;28;01mif\u001b[39;00m \u001b[38;5;124;43m'\u001b[39;49m\u001b[38;5;124;43mCUSTOMERBMI\u001b[39;49m\u001b[38;5;124;43m'\u001b[39;49m\u001b[43m \u001b[49m\u001b[38;5;241;43m<\u001b[39;49m\u001b[43m \u001b[49m\u001b[38;5;241;43m18.5\u001b[39;49m:\n\u001b[0;32m     13\u001b[0m         \u001b[38;5;28mprint\u001b[39m(\u001b[38;5;124mf\u001b[39m\u001b[38;5;124m'\u001b[39m\u001b[38;5;124mYou are overweight\u001b[39m\u001b[38;5;124m'\u001b[39m)\n\u001b[0;32m     14\u001b[0m     \u001b[38;5;28;01melif\u001b[39;00m\u001b[38;5;124m'\u001b[39m\u001b[38;5;124mCUSTOMERBMI\u001b[39m\u001b[38;5;124m'\u001b[39m \u001b[38;5;241m>\u001b[39m\u001b[38;5;241m=\u001b[39m\u001b[38;5;241m18.5\u001b[39m \u001b[38;5;129;01mand\u001b[39;00m \u001b[38;5;124m'\u001b[39m\u001b[38;5;124mCUSTOMERBMI\u001b[39m\u001b[38;5;124m'\u001b[39m \u001b[38;5;241m<\u001b[39m \u001b[38;5;241m24.9\u001b[39m:\n",
      "\u001b[1;31mTypeError\u001b[0m: '<' not supported between instances of 'str' and 'float'"
     ]
    }
   ],
   "source": [
    "def CUSTOMERDETAIL(location, name, age, gender, height, weight):\n",
    "    print(f'''_____________ The Customer Body Index Info ____________\n",
    "    \n",
    "CUSTOMER LOCATION:{location}\n",
    "CUSTOMER NAME:{name}\n",
    "CUSTOMER AGE:{age}\n",
    "CUSTOMER GENDER:{gender}\n",
    "CUSTOMETER HEIGHT:{height}\n",
    "CUSDTOMER WEIGHT:{weight}\n",
    "CUSTOMERBMI:{weight/(height**2)}\n",
    "''')\n",
    "    if 'CUSTOMERBMI' < 18.5:\n",
    "        print(f'You are overweight')\n",
    "    elif'CUSTOMERBMI' >=18.5 and 'CUSTOMERBMI' < 24.9:\n",
    "        print(f'Customer weight is normal')\n",
    "    elif'CUSTOMERBMI' >=24.5 and 'CUSTOMERBMI' < 30.0:\n",
    "        print(f'Customer weight is preobese')  \n",
    "    elif'CUSTOMERBMI' >=30.0 and 'CUSTOMERBMI' < 34.9:\n",
    "        print(f'Customer weight class 1 Obese')   \n",
    "    elif'CUSTOMERBMI' >=35.0 and 'CUSTOMERBMI' < 39.9:\n",
    "        print(f'Customer weight class 2 Obese')  \n",
    "    elif'CUSTOMERBMI' >=40.0: \n",
    "        print(f'Customer weight class 3 Obese')  \n",
    "CUSTOMERDETAIL('Gwarimpa', 'John', 70, 'Male', 2.7, 46 )        \n",
    "    "
   ]
  },
  {
   "cell_type": "code",
   "execution_count": 7,
   "id": "6a75f914",
   "metadata": {},
   "outputs": [],
   "source": [
    "# QUESTION 2\n",
    "# WRITE A PYTHON FUNCTION TO CALCULATE THE AVERAGE SCORE OF STUDENTS IN EIGHT SUBJECTS\n",
    "# USING THE AVERAGE SCORE FIND OUT THE GRADE CATEGORY OF THAT STUDENT BY SETTING THE NECESSARY CONDITIONS"
   ]
  },
  {
   "cell_type": "code",
   "execution_count": 23,
   "id": "1d26de20",
   "metadata": {},
   "outputs": [
    {
     "name": "stdout",
     "output_type": "stream",
     "text": [
      " ____________________STUDENT EXAM DETAILS___________________\n",
      "    \n",
      "STUDENT NAME:Prince Jay\n",
      "STUDENT MATRIC NO:10002\n",
      "ENGLISH:67\n",
      "MATH:89\n",
      "CHEMISTRY:45\n",
      "BIOLOGY:67\n",
      "PHYSICS:87\n",
      "AGRIC:90\n",
      "GEOGRAPHY:45\n",
      "ECONS:54\n",
      "AVERAGE SCORE:68.0\n",
      "\n",
      "Your average score in the Exam is B+\n"
     ]
    }
   ],
   "source": [
    "def Studentexam(name, matno, eng, math, chem, bio, phy, agric, geo, econs):\n",
    "    averagescore = (eng + math + chem + bio + phy + agric + geo + econs) / 8\n",
    "    print(f''' ____________________STUDENT EXAM DETAILS___________________\n",
    "    \n",
    "STUDENT NAME:{name}\n",
    "STUDENT MATRIC NO:{matno}\n",
    "ENGLISH:{eng}\n",
    "MATH:{math}\n",
    "CHEMISTRY:{chem}\n",
    "BIOLOGY:{bio}\n",
    "PHYSICS:{phy}\n",
    "AGRIC:{agric}\n",
    "GEOGRAPHY:{geo}\n",
    "ECONS:{econs}\n",
    "AVERAGE SCORE:{averagescore}\n",
    "''')\n",
    "    if (averagescore > 85 and averagescore <= 100):\n",
    "        print('Your average score in the Exam is A')\n",
    "    elif(averagescore > 60 and averagescore <= 85):\n",
    "        print(f'Your average score in the Exam is B+')\n",
    "    elif(averagescore > 50 and averagescore <= 60):\n",
    "        print(f'Your average score in the Exam is B')\n",
    "    elif(averagescore >= 40 and averagescore <= 50):\n",
    "        print(f'Your average score in the Exam is c')\n",
    "    elif averagescore < 40: \n",
    "        print(f'Sorry, you failed in the Exam')\n",
    "Studentexam('Prince Jay', 10002,67,89,45,67,87,90,45,54)        "
   ]
  },
  {
   "cell_type": "code",
   "execution_count": 26,
   "id": "315e1e40",
   "metadata": {},
   "outputs": [
    {
     "name": "stdout",
     "output_type": "stream",
     "text": [
      "Please enter your height in meters:1.5\n",
      "Please enter your weight in kg:90\n",
      "YOUR BMI IS: (w/h**2)\n",
      "YOU ARE OBESE\n"
     ]
    }
   ],
   "source": [
    "def bodymassindex():\n",
    "    h = float(input('Please enter your height in meters:'))\n",
    "    w = float(input('Please enter your weight in kg:'))\n",
    "    bmi = round((w/(h**2)),2)\n",
    "    print('YOUR BMI IS: (w/h**2)')\n",
    "    if bmi <= 18.5:\n",
    "        print('YOU ARE UNDERWEIGHT')\n",
    "    elif 18.5 < bmi <= 25:\n",
    "        print('YOU ARE NORMAL WEIGHT')\n",
    "    elif 25 < bmi <= 29.9:\n",
    "        print('YOU ARE OVER WEIGHT')  \n",
    "    else:\n",
    "        print('YOU ARE OBESE')\n",
    "bodymassindex()        \n"
   ]
  },
  {
   "cell_type": "code",
   "execution_count": null,
   "id": "75bc3584",
   "metadata": {},
   "outputs": [],
   "source": []
  }
 ],
 "metadata": {
  "kernelspec": {
   "display_name": "Python 3 (ipykernel)",
   "language": "python",
   "name": "python3"
  },
  "language_info": {
   "codemirror_mode": {
    "name": "ipython",
    "version": 3
   },
   "file_extension": ".py",
   "mimetype": "text/x-python",
   "name": "python",
   "nbconvert_exporter": "python",
   "pygments_lexer": "ipython3",
   "version": "3.9.12"
  }
 },
 "nbformat": 4,
 "nbformat_minor": 5
}
