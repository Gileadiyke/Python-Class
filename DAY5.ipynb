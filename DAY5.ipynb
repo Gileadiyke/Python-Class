{
 "cells": [
  {
   "cell_type": "code",
   "execution_count": 1,
   "id": "2dc0f968",
   "metadata": {},
   "outputs": [
    {
     "name": "stdout",
     "output_type": "stream",
     "text": [
      "Please provide your age:32\n",
      "Please provide your gender (M or F):M\n",
      "Please provide your marital status (M or S)S\n",
      "Employee can work any where\n"
     ]
    }
   ],
   "source": [
    "age = int(input('Please provide your age:'))\n",
    "gender = input('Please provide your gender (M or F):')\n",
    "maritalstatus = input('Please provide your marital status (M or S)' )\n",
    "if gender == 'F':\n",
    "   print('Employee will work only in the urban area') \n",
    "elif gender == 'M'and age >= 20 and age < 40:\n",
    "     print('Employee can work any where')\n",
    "elif gender == 'M'and age >= 40 and age < 60: \n",
    "     print('Employee will work only in the urban area')\n",
    "else:\n",
    "    print('ERROR')               "
   ]
  },
  {
   "cell_type": "code",
   "execution_count": 2,
   "id": "116ca7ff",
   "metadata": {},
   "outputs": [
    {
     "name": "stdout",
     "output_type": "stream",
     "text": [
      "ppp\n",
      "yyy\n",
      "ttt\n",
      "hhh\n",
      "ooo\n",
      "nnn\n"
     ]
    }
   ],
   "source": [
    "word = 'python'\n",
    "for char in word:\n",
    "    print(char* 3)"
   ]
  },
  {
   "cell_type": "code",
   "execution_count": 4,
   "id": "83be5e0f",
   "metadata": {},
   "outputs": [
    {
     "name": "stdout",
     "output_type": "stream",
     "text": [
      "ppp yyy ttt hhh ooo nnn "
     ]
    }
   ],
   "source": [
    "word = 'python'\n",
    "for char in word:\n",
    "    print(char* 3, end = ' ')"
   ]
  },
  {
   "cell_type": "code",
   "execution_count": 14,
   "id": "4e863e1b",
   "metadata": {},
   "outputs": [
    {
     "name": "stdout",
     "output_type": "stream",
     "text": [
      "Please provide your registration ID to see details:JB002\n",
      "Find your details below\n",
      "{'Name': 'Hope Akpan', 'Physics': 85, 'Math': 80, 'English': 65, 'Chemistry': 75}  \n",
      "\n"
     ]
    }
   ],
   "source": [
    "student_records = {\n",
    "    'JB001':{'Name':'Samuel Akinwumi','Physics':78,'Math':85,'English':90,'Chemistry':90},\n",
    "    'JB002':{'Name':'Hope Akpan', 'Physics':85,'Math':80,'English':65,'Chemistry':75},\n",
    "    'JB003':{'Name':'Idris Lawal', 'Physics':98,'Math':72,'English':70,'Chemistry':69},\n",
    "    'JB004':{'Name':'Ekong Peace', 'Physics':82,'Math':99,'English':36,'Chemistry':99},\n",
    "    'JB005':{'Name':'Seyi Aina', 'Physics':78,'Math':80,'English':85,'Chemistry':80},\n",
    "}   \n",
    "studentregid = input('Please provide your registration ID to see details:')\n",
    "for key in student_records:\n",
    "    if key == studentregid:\n",
    "        print(f'''Find your details below\n",
    "{student_records[studentregid]}  \n",
    "''')"
   ]
  },
  {
   "cell_type": "code",
   "execution_count": 15,
   "id": "2d0182e5",
   "metadata": {},
   "outputs": [
    {
     "name": "stdout",
     "output_type": "stream",
     "text": [
      "Please provide your registration ID to see details:JB007\n",
      "Records Not Found\n"
     ]
    }
   ],
   "source": [
    "student_records = {\n",
    "    'JB001':{'Name':'Samuel Akinwumi','Physics':78,'Math':85,'English':90,'Chemistry':90},\n",
    "    'JB002':{'Name':'Hope Akpan', 'Physics':85,'Math':80,'English':65,'Chemistry':75},\n",
    "    'JB003':{'Name':'Idris Lawal', 'Physics':98,'Math':72,'English':70,'Chemistry':69},\n",
    "    'JB004':{'Name':'Ekong Peace', 'Physics':82,'Math':99,'English':36,'Chemistry':99},\n",
    "    'JB005':{'Name':'Seyi Aina', 'Physics':78,'Math':80,'English':85,'Chemistry':80},\n",
    "}   \n",
    "studentregid = input('Please provide your registration ID to see details:')\n",
    "for key in student_records:\n",
    "    if key == studentregid:\n",
    "        print(f'''Find your details below\n",
    "{student_records[studentregid]}  \n",
    "''')\n",
    "else:\n",
    "    print('Records Not Found')"
   ]
  },
  {
   "cell_type": "code",
   "execution_count": 17,
   "id": "df4c598c",
   "metadata": {},
   "outputs": [
    {
     "name": "stdout",
     "output_type": "stream",
     "text": [
      "Please provide your registration ID to see details:JB003\n",
      "Find your details below\n",
      "{'Name': 'Idris Lawal', 'Physics': 98, 'Math': 72, 'English': 70, 'Chemistry': 69}  \n",
      "\n"
     ]
    }
   ],
   "source": [
    "student_records = {\n",
    "    'JB001':{'Name':'Samuel Akinwumi','Physics':78,'Math':85,'English':90,'Chemistry':90},\n",
    "    'JB002':{'Name':'Hope Akpan', 'Physics':85,'Math':80,'English':65,'Chemistry':75},\n",
    "    'JB003':{'Name':'Idris Lawal', 'Physics':98,'Math':72,'English':70,'Chemistry':69},\n",
    "    'JB004':{'Name':'Ekong Peace', 'Physics':82,'Math':99,'English':36,'Chemistry':99},\n",
    "    'JB005':{'Name':'Seyi Aina', 'Physics':78,'Math':80,'English':85,'Chemistry':80},\n",
    "}   \n",
    "studentregid = input('Please provide your registration ID to see details:')\n",
    "for key in student_records:\n",
    "    if key == studentregid:\n",
    "        print(f'''Find your details below\n",
    "{student_records[studentregid]}  \n",
    "''')\n",
    "        break\n",
    "else:\n",
    "    print('Records Not Found')"
   ]
  },
  {
   "cell_type": "code",
   "execution_count": 18,
   "id": "73bc5e66",
   "metadata": {},
   "outputs": [
    {
     "name": "stdout",
     "output_type": "stream",
     "text": [
      "7\n",
      "14\n",
      "21\n",
      "28\n",
      "35\n",
      "42\n",
      "49\n",
      "56\n",
      "63\n",
      "70\n",
      "77\n",
      "84\n"
     ]
    }
   ],
   "source": [
    "for i in range(1,13):\n",
    "    print(i * 7)"
   ]
  },
  {
   "cell_type": "code",
   "execution_count": 21,
   "id": "3288bba7",
   "metadata": {},
   "outputs": [
    {
     "name": "stdout",
     "output_type": "stream",
     "text": [
      "Please Provide a number:78\n",
      "The sqrt of 78 is 8.831760866327848\n",
      "Please Provide a number:50\n",
      "The sqrt of 50 is 7.0710678118654755\n",
      "Please Provide a number:65\n",
      "The sqrt of 65 is 8.06225774829855\n",
      "Please Provide a number:40\n",
      "The sqrt of 40 is 6.324555320336759\n",
      "Please Provide a number:0\n"
     ]
    }
   ],
   "source": [
    "usernumber = int(input('Please Provide a number:'))\n",
    "import math\n",
    "counter = 0\n",
    "while usernumber != 0:\n",
    "    print(f'The sqrt of {usernumber} is {math.sqrt(usernumber)}')  \n",
    "    usernumber = int(input('Please Provide a number:'))\n",
    "    counter = counter + 1"
   ]
  },
  {
   "cell_type": "code",
   "execution_count": 24,
   "id": "54715a7b",
   "metadata": {},
   "outputs": [
    {
     "name": "stdout",
     "output_type": "stream",
     "text": [
      "Guess Ade number between 1 to 20:10\n",
      "Guess is High\n",
      "Guess Ade number between 1 to 20:9\n",
      "Guess is High\n",
      "Guess Ade number between 1 to 20:8\n",
      "Guess is High\n",
      "Guess Ade number between 1 to 20:7\n",
      "Guess is High\n",
      "Guess Ade number between 1 to 20:6\n",
      "Guess is High\n",
      "Guess is Wrong\n"
     ]
    }
   ],
   "source": [
    "import random\n",
    "ade = random.randint(1,20)\n",
    "limit = 5\n",
    "counter = 0\n",
    "while counter < limit:\n",
    "    guess = int(input('Guess Ade number between 1 to 20:'))\n",
    "    counter += 1\n",
    "    if guess == ade:\n",
    "        print('Guess is Low') \n",
    "        break\n",
    "    elif guess < ade:\n",
    "        print('Guess is High')\n",
    "else:\n",
    "    print('Guess is Wrong')"
   ]
  },
  {
   "cell_type": "markdown",
   "id": "286df5da",
   "metadata": {},
   "source": [
    "# LOOP"
   ]
  },
  {
   "cell_type": "code",
   "execution_count": null,
   "id": "e80ea642",
   "metadata": {},
   "outputs": [],
   "source": []
  }
 ],
 "metadata": {
  "kernelspec": {
   "display_name": "Python 3 (ipykernel)",
   "language": "python",
   "name": "python3"
  },
  "language_info": {
   "codemirror_mode": {
    "name": "ipython",
    "version": 3
   },
   "file_extension": ".py",
   "mimetype": "text/x-python",
   "name": "python",
   "nbconvert_exporter": "python",
   "pygments_lexer": "ipython3",
   "version": "3.9.12"
  }
 },
 "nbformat": 4,
 "nbformat_minor": 5
}
